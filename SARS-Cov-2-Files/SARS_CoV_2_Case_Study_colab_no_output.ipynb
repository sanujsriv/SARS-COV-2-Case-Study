{
  "nbformat": 4,
  "nbformat_minor": 0,
  "metadata": {
    "colab": {
      "name": "SARS-CoV-2 Case Study.ipynb",
      "provenance": [],
      "collapsed_sections": []
    },
    "kernelspec": {
      "name": "python3",
      "display_name": "Python 3"
    }
  },
  "cells": [
    {
      "cell_type": "markdown",
      "metadata": {
        "id": "UeGw6rvqDIVS",
        "colab_type": "text"
      },
      "source": [
        "<div align='center'>\n",
        "<h1>SARS-CoV-2 Case Study</h1>\n",
        "</div>\n",
        "\n",
        "\n",
        "\n"
      ]
    },
    {
      "cell_type": "markdown",
      "metadata": {
        "id": "tGl9MYrx_nNl",
        "colab_type": "text"
      },
      "source": [
        "![alt text](https://www.clickondetroit.com/resizer/125cossRuIPpIO58TX-yE3FW5Y8=/1600x900/smart/filters:format(jpeg):strip_exif(true):strip_icc(true):no_upscale(true):quality(65)/cloudfront-us-east-1.images.arcpublishing.com/gmg/II4CS4PEQRHG5F4LY5UEMAKRYA.jpg)\n",
        "\n",
        "Coronavirus disease (COVID-19) is an infectious disease caused by a newly discovered coronavirus. The virus which causes COVID-19 is named 'SARS-CoV-2'\n",
        "\n",
        "Coronavirus is a family of viruses that can cause illness, which can vary from common cold and cough to sometimes more severe disease. Middle East Respiratory Syndrome (MERS-CoV) and Severe Acute Respiratory Syndrome (SARS-CoV) were such severe cases with the world already has faced.\n",
        "\n",
        "SARS-CoV-2 (n-coronavirus) is the new virus of the coronavirus family, which first discovered in 2019, which has not been identified in humans before. It is a contiguous virus which started from Wuhan in December 2019. Which later declared as Pandemic by WHO due to high rate spreads throughout the world. Currently (on the date 10 June 2020), this leads to a total of 500K+ Deaths across the globe.\n",
        "\n",
        "Most people infected with the COVID-19 virus will experience mild to moderate respiratory illness and recover without requiring special treatment.  Older people, and those with underlying medical problems like cardiovascular disease, diabetes, chronic respiratory disease, and cancer are more likely to develop serious illness.\n",
        "\n",
        "The best way to prevent and slow down transmission is be well informed about the COVID-19 virus, the disease it causes and how it spreads. Protect yourself and others from infection by washing your hands or using an alcohol based rub frequently and not touching your face. \n",
        "\n",
        "The COVID-19 virus spreads primarily through droplets of saliva or discharge from the nose when an infected person coughs or sneezes, so it’s important that you also practice respiratory etiquette (for example, by coughing into a flexed elbow).\n",
        "\n",
        "As the pandemic is spreading all over the world, it becomes more important to understand about this spread.\n",
        "\n",
        "This project is an effort to analyze the spread progression, prediction of active cases, daily analysis of what is happening and visualization of cumulative data of confirmed, deaths, and recovered cases over time.\n",
        "\n",
        "SOURCES:\n",
        "<br>\n",
        "[WHO](https://www.who.int/health-topics/coronavirus#tab=tab_1)\n",
        "<br>\n",
        "[Kaggle](https://www.kaggle.com/)\n",
        "<br>\n",
        "[CDC](https://www.cdc.gov/coronavirus/2019-ncov/index.html)"
      ]
    },
    {
      "cell_type": "markdown",
      "metadata": {
        "id": "Ya1COU79_Xtd",
        "colab_type": "text"
      },
      "source": [
        "# Installing all the required libraries\n",
        "\n",
        "<strong> pycountry_convert : </strong>\n",
        "Extension of Python package pycountry providing conversion functions. Using country data derived from wikipedia, this package provides conversion functions between ISO country names, country-codes, and continent names.\n",
        "\n",
        "<strong> folium : </strong> Folium makes it easy to visualize data that’s been manipulated in Python on an interactive Leaflet map. It enables both the binding of data to a map for choropleth visualizations as well as passing Vincent/Vega visualizations as markers on the map.\n",
        "<br>\n",
        "<br>\n",
        "Sources\n",
        "<br>\n",
        "[pypi](https://pypi.org/)"
      ]
    },
    {
      "cell_type": "code",
      "metadata": {
        "id": "aLUbUtzTGgTX",
        "colab_type": "code",
        "colab": {}
      },
      "source": [
        "!pip install pycountry_convert \n",
        "!pip install folium"
      ],
      "execution_count": null,
      "outputs": []
    },
    {
      "cell_type": "code",
      "metadata": {
        "id": "wgUGn9UmUqms",
        "colab_type": "code",
        "cellView": "both",
        "colab": {}
      },
      "source": [
        "\n",
        "## Imports required for data analysis,manipulation and preprocessing\n",
        "\n",
        "import pandas as pd \n",
        "import numpy as np\n",
        "from datetime import datetime, timedelta,date\n",
        "from scipy.interpolate import make_interp_spline, BSpline\n",
        "import pycountry_convert as pc\n",
        "\n",
        "## Imports required for visualization , plots etc..\n",
        "\n",
        "import matplotlib.pyplot as plt\n",
        "from matplotlib import ticker \n",
        "import folium\n",
        "import plotly.express as px\n",
        "import plotly.graph_objects as go\n",
        "import seaborn as sns\n",
        "import branca\n",
        "\n",
        "\n",
        "## Imports for Machine Learning Models\n",
        "\n",
        "from sklearn.model_selection import train_test_split,RandomizedSearchCV\n",
        "from sklearn.svm import SVR\n",
        "from sklearn.linear_model import LinearRegression\n",
        "from sklearn.preprocessing import PolynomialFeatures,RobustScaler\n",
        "from sklearn.metrics import mean_absolute_error,mean_squared_error,r2_score\n",
        "\n",
        "## Imports for Deep Learning Models\n",
        "\n",
        "from keras.layers import Input, Dense, Activation, LeakyReLU, Dropout\n",
        "from keras import models\n",
        "from keras.optimizers import RMSprop, Adam\n",
        "\n",
        "## Misc imports\n",
        "import warnings\n",
        "warnings.filterwarnings('ignore')\n",
        "# import json, requests\n",
        "# import calmap\n",
        "\n",
        "%matplotlib inline"
      ],
      "execution_count": null,
      "outputs": []
    },
    {
      "cell_type": "markdown",
      "metadata": {
        "id": "npoT_YB1_Pk3",
        "colab_type": "text"
      },
      "source": [
        "# Importing Dataset\n",
        "\n",
        "The data source is a repository from github : https://github.com/CSSEGISandData/COVID-19. It gets updated on a daily basis which makes it an ideal choice\n",
        "\n",
        "The data repository is owned and operated by Johns Hopkins University Center for Systems Science and Engineering (JHU CSSE)  who are constantly working towards the cause i.e. analysis of COVID-19 and is deemed as a trustable source"
      ]
    },
    {
      "cell_type": "code",
      "metadata": {
        "id": "fh1wONruU316",
        "colab_type": "code",
        "cellView": "both",
        "colab": {}
      },
      "source": [
        "df_confirmed = pd.read_csv('https://raw.githubusercontent.com/CSSEGISandData/COVID-19/master/csse_covid_19_data/csse_covid_19_time_series/time_series_covid19_confirmed_global.csv')\n",
        "df_deaths = pd.read_csv('https://raw.githubusercontent.com/CSSEGISandData/COVID-19/master/csse_covid_19_data/csse_covid_19_time_series/time_series_covid19_deaths_global.csv')\n",
        "df_covid19 = pd.read_csv(\"https://raw.githubusercontent.com/CSSEGISandData/COVID-19/web-data/data/cases_country.csv\")\n",
        "df_table = pd.read_csv(\"https://raw.githubusercontent.com/CSSEGISandData/COVID-19/web-data/data/cases_time.csv\",parse_dates=['Last_Update'])"
      ],
      "execution_count": null,
      "outputs": []
    },
    {
      "cell_type": "markdown",
      "metadata": {
        "id": "0FVWm6DEFd15",
        "colab_type": "text"
      },
      "source": [
        "Correlation Heatmap :\n",
        "<br>\n",
        "For dataframe which is used for storing confirmed cases - There is positive correlation between the columns (as dates) that stores the value of no. of confirmed cases recorded on that day."
      ]
    },
    {
      "cell_type": "code",
      "metadata": {
        "id": "-ay_XdNm9yd1",
        "colab_type": "code",
        "colab": {}
      },
      "source": [
        "corr=df_confirmed.corr(method ='kendall')\n",
        "fig, ax = plt.subplots(figsize=(12,10)) \n",
        "ax = sns.heatmap(\n",
        "    corr, \n",
        "    vmin=-1, vmax=1, center=0,\n",
        "    cmap=sns.diverging_palette(20, 220, n=200),\n",
        "    square=True\n",
        ")\n",
        "ax.set_xticklabels(\n",
        "    ax.get_xticklabels(),\n",
        "    rotation=45,\n",
        "    horizontalalignment='right'\n",
        ");"
      ],
      "execution_count": null,
      "outputs": []
    },
    {
      "cell_type": "markdown",
      "metadata": {
        "id": "x7upEJkTGK1i",
        "colab_type": "text"
      },
      "source": [
        "# Preprocessing \n",
        "\n",
        "---\n",
        "\n",
        "> Dropping columns which are not required"
      ]
    },
    {
      "cell_type": "markdown",
      "metadata": {
        "id": "rAvVbQJoGhHL",
        "colab_type": "text"
      },
      "source": [
        "> **Have a look at the datasets**"
      ]
    },
    {
      "cell_type": "code",
      "metadata": {
        "id": "ZBATdQMRUuNq",
        "colab_type": "code",
        "colab": {}
      },
      "source": [
        "df_covid19 = df_covid19.drop([\"People_Tested\",\"People_Hospitalized\",\"UID\",\"ISO3\",\"Mortality_Rate\"],axis =1)\n",
        "df_covid19.head(2)"
      ],
      "execution_count": null,
      "outputs": []
    },
    {
      "cell_type": "code",
      "metadata": {
        "id": "S2IbR3FyVJFa",
        "colab_type": "code",
        "colab": {}
      },
      "source": [
        "df_confirmed.head(2)"
      ],
      "execution_count": null,
      "outputs": []
    },
    {
      "cell_type": "code",
      "metadata": {
        "id": "AAacdOzJXOt9",
        "colab_type": "code",
        "colab": {}
      },
      "source": [
        "df_deaths.head(2)"
      ],
      "execution_count": null,
      "outputs": []
    },
    {
      "cell_type": "code",
      "metadata": {
        "id": "xVVuZsLlXSfZ",
        "colab_type": "code",
        "colab": {}
      },
      "source": [
        "df_table.head(2)"
      ],
      "execution_count": null,
      "outputs": []
    },
    {
      "cell_type": "markdown",
      "metadata": {
        "id": "uUwO1uCEXXTW",
        "colab_type": "text"
      },
      "source": [
        "> Renaming columns to a more approprite short-hand version for simplicity"
      ]
    },
    {
      "cell_type": "code",
      "metadata": {
        "id": "hRMBg3B8VMfe",
        "colab_type": "code",
        "colab": {}
      },
      "source": [
        "df_confirmed = df_confirmed.rename(columns={\"Province/State\":\"state\",\"Country/Region\": \"country\"})\n",
        "df_deaths = df_deaths.rename(columns={\"Province/State\":\"state\",\"Country/Region\": \"country\"})\n",
        "df_covid19 = df_covid19.rename(columns={\"Country_Region\": \"country\"})\n",
        "df_covid19[\"Active\"] = df_covid19[\"Confirmed\"]-df_covid19[\"Recovered\"]-df_covid19[\"Deaths\"]"
      ],
      "execution_count": null,
      "outputs": []
    },
    {
      "cell_type": "code",
      "metadata": {
        "id": "XY9O-7uUVNGb",
        "colab_type": "code",
        "colab": {}
      },
      "source": [
        "df_confirmed.loc[df_confirmed['country'] == \"US\", \"country\"] = \"USA\"\n",
        "df_deaths.loc[df_deaths['country'] == \"US\", \"country\"] = \"USA\"\n",
        "df_covid19.loc[df_covid19['country'] == \"US\", \"country\"] = \"USA\"\n",
        "df_table.loc[df_table['Country_Region'] == \"US\", \"Country_Region\"] = \"USA\"\n",
        "\n",
        "df_confirmed.loc[df_confirmed['country'] == 'Korea, South', \"country\"] = 'South Korea'\n",
        "df_deaths.loc[df_deaths['country'] == 'Korea, South', \"country\"] = 'South Korea'\n",
        "df_covid19.loc[df_covid19['country'] == \"Korea, South\", \"country\"] = \"South Korea\"\n",
        "df_table.loc[df_table['Country_Region'] == \"Korea, South\", \"Country_Region\"] = \"South Korea\"\n",
        "\n",
        "df_confirmed.loc[df_confirmed['country'] == 'Taiwan*', \"country\"] = 'Taiwan'\n",
        "df_deaths.loc[df_deaths['country'] == 'Taiwan*', \"country\"] = 'Taiwan'\n",
        "df_covid19.loc[df_covid19['country'] == \"Taiwan*\", \"country\"] = \"Taiwan\"\n",
        "df_table.loc[df_table['Country_Region'] == \"Taiwan*\", \"Country_Region\"] = \"Taiwan\"\n",
        "\n",
        "df_confirmed.loc[df_confirmed['country'] == 'Congo (Kinshasa)', \"country\"] = 'Democratic Republic of the Congo'\n",
        "df_deaths.loc[df_deaths['country'] == 'Congo (Kinshasa)', \"country\"] = 'Democratic Republic of the Congo'\n",
        "df_covid19.loc[df_covid19['country'] == \"Congo (Kinshasa)\", \"country\"] = \"Democratic Republic of the Congo\"\n",
        "df_table.loc[df_table['Country_Region'] == \"Congo (Kinshasa)\", \"Country_Region\"] = \"Democratic Republic of the Congo\"\n",
        "\n",
        "df_confirmed.loc[df_confirmed['country'] == \"Cote d'Ivoire\", \"country\"] = \"Côte d'Ivoire\"\n",
        "df_deaths.loc[df_deaths['country'] == \"Cote d'Ivoire\", \"country\"] = \"Côte d'Ivoire\"\n",
        "df_covid19.loc[df_covid19['country'] == \"Cote d'Ivoire\", \"country\"] = \"Côte d'Ivoire\"\n",
        "df_table.loc[df_table['Country_Region'] == \"Cote d'Ivoire\", \"Country_Region\"] = \"Côte d'Ivoire\"\n",
        "\n",
        "df_confirmed.loc[df_confirmed['country'] == \"Reunion\", \"country\"] = \"Réunion\"\n",
        "df_deaths.loc[df_deaths['country'] == \"Reunion\", \"country\"] = \"Réunion\"\n",
        "df_covid19.loc[df_covid19['country'] == \"Reunion\", \"country\"] = \"Réunion\"\n",
        "df_table.loc[df_table['Country_Region'] == \"Reunion\", \"Country_Region\"] = \"Réunion\"\n",
        "\n",
        "df_confirmed.loc[df_confirmed['country'] == 'Congo (Brazzaville)', \"country\"] = 'Republic of the Congo'\n",
        "df_deaths.loc[df_deaths['country'] == 'Congo (Brazzaville)', \"country\"] = 'Republic of the Congo'\n",
        "df_covid19.loc[df_covid19['country'] == \"Congo (Brazzaville)\", \"country\"] = \"Republic of the Congo\"\n",
        "df_table.loc[df_table['Country_Region'] == \"Congo (Brazzaville)\", \"Country_Region\"] = \"Republic of the Congo\"\n",
        "\n",
        "df_confirmed.loc[df_confirmed['country'] == 'Bahamas, The', \"country\"] = 'Bahamas'\n",
        "df_deaths.loc[df_deaths['country'] == 'Bahamas, The', \"country\"] = 'Bahamas'\n",
        "df_covid19.loc[df_covid19['country'] == \"Bahamas, The\", \"country\"] = \"Bahamas\"\n",
        "df_table.loc[df_table['Country_Region'] == \"Bahamas, The\", \"Country_Region\"] = \"Bahamas\"\n",
        "\n",
        "\n",
        "df_confirmed.loc[df_confirmed['country'] == 'Gambia, The', \"country\"] = 'Gambia'\n",
        "df_deaths.loc[df_deaths['country'] == 'Gambia, The', \"country\"] = 'Gambia'\n",
        "df_covid19.loc[df_covid19['country'] == \"Gambia, The\", \"country\"] = \"Gambia\"\n",
        "df_table.loc[df_table['Country_Region'] == \"Gambia\", \"Country_Region\"] = \"Gambia\"\n",
        "\n",
        "# getting all countries\n",
        "countries = np.asarray(df_confirmed[\"country\"])\n",
        "countries1 = np.asarray(df_covid19[\"country\"])\n",
        "# Continent_code to Continent_names\n",
        "continents = {\n",
        "    'NA': 'North America',\n",
        "    'SA': 'South America', \n",
        "    'AS': 'Asia',\n",
        "    'OC': 'Australia',\n",
        "    'AF': 'Africa',\n",
        "    'EU' : 'Europe',\n",
        "    'na' : 'Others'\n",
        "}\n",
        "\n",
        "def country_to_continent_code(country):\n",
        "    try:\n",
        "        return pc.country_alpha2_to_continent_code(pc.country_name_to_country_alpha2(country))\n",
        "    except :\n",
        "        return 'na'\n",
        "\n",
        "df_confirmed.insert(2,\"continent\", [continents[country_to_continent_code(country)] for country in countries[:]])\n",
        "df_deaths.insert(2,\"continent\",  [continents[country_to_continent_code(country)] for country in countries[:]])\n",
        "df_covid19.insert(1,\"continent\",  [continents[country_to_continent_code(country)] for country in countries1[:]])\n",
        "df_table.insert(1,\"continent\",  [continents[country_to_continent_code(country)] for country in df_table[\"Country_Region\"].values])"
      ],
      "execution_count": null,
      "outputs": []
    },
    {
      "cell_type": "code",
      "metadata": {
        "id": "nk4NEZLhVrEg",
        "colab_type": "code",
        "colab": {}
      },
      "source": [
        "df_table = df_table[df_table[\"continent\"] != \"Others\"]\n",
        "df_deaths[df_deaths[\"continent\" ]== 'Others']"
      ],
      "execution_count": null,
      "outputs": []
    },
    {
      "cell_type": "markdown",
      "metadata": {
        "id": "LWckafe1HoA1",
        "colab_type": "text"
      },
      "source": [
        "> Dropping the state column as the dataset has no valuable information"
      ]
    },
    {
      "cell_type": "code",
      "metadata": {
        "id": "cwtQfPn_Vv0z",
        "colab_type": "code",
        "colab": {}
      },
      "source": [
        "df_confirmed=df_confirmed.drop(['state'],axis=1)\n",
        "df_deaths=df_deaths.drop(['state'],axis=1)\n",
        "# df_confirmed = df_confirmed.replace(np.nan, '', regex=True)\n",
        "# df_deaths = df_deaths.replace(np.nan, '', regex=True)\n",
        "df_deaths"
      ],
      "execution_count": null,
      "outputs": []
    },
    {
      "cell_type": "markdown",
      "metadata": {
        "id": "oW3jxi8GH07B",
        "colab_type": "text"
      },
      "source": [
        "> Filling missing values by 0"
      ]
    },
    {
      "cell_type": "code",
      "metadata": {
        "id": "0OBr_4oNV0L7",
        "colab_type": "code",
        "colab": {}
      },
      "source": [
        "df_countries_cases = df_covid19.copy().drop(['Lat','Long_','continent','Last_Update'],axis =1)\n",
        "df_countries_cases.index = df_countries_cases[\"country\"]\n",
        "df_countries_cases = df_countries_cases.drop(['country'],axis=1)\n",
        "\n",
        "df_continents_cases = df_covid19.copy().drop(['Lat','Long_','country','Last_Update'],axis =1)\n",
        "df_continents_cases = df_continents_cases.groupby([\"continent\"]).sum()\n",
        "\n",
        "df_countries_cases.fillna(0,inplace=True)\n",
        "df_continents_cases.fillna(0,inplace=True)"
      ],
      "execution_count": null,
      "outputs": []
    },
    {
      "cell_type": "markdown",
      "metadata": {
        "id": "BHCrtZWuH8vh",
        "colab_type": "text"
      },
      "source": [
        "# Analysis\n",
        "\n",
        "> Total number of confirmed cases, deaths reported, revoveries and active cases all across the world"
      ]
    },
    {
      "cell_type": "code",
      "metadata": {
        "id": "BJpjThYlV5fT",
        "colab_type": "code",
        "colab": {}
      },
      "source": [
        "df_t = pd.DataFrame(pd.to_numeric(df_countries_cases.sum()),dtype=np.float64).transpose()\n",
        "df_t[\"Mortality Rate (per 100)\"] = np.round(100*df_t[\"Deaths\"]/df_t[\"Confirmed\"],2)\n",
        "df_t.style.background_gradient(cmap='Wistia',axis=1).format(\"{:.2f}\").format(\"{:.0f}\",subset=[\"Confirmed\",\"Deaths\",\"Recovered\",\"Active\"])"
      ],
      "execution_count": null,
      "outputs": []
    },
    {
      "cell_type": "markdown",
      "metadata": {
        "id": "_tzaI2SfILTq",
        "colab_type": "text"
      },
      "source": [
        "> Reported cases : Continent-wise"
      ]
    },
    {
      "cell_type": "code",
      "metadata": {
        "id": "_08Bwlq9V7Su",
        "colab_type": "code",
        "colab": {}
      },
      "source": [
        "df_continents_cases[\"Mortality Rate (per 100)\"] = np.round(100*df_continents_cases[\"Deaths\"]/df_continents_cases[\"Confirmed\"],2)\n",
        "df_continents_cases.style.background_gradient(cmap='Blues',subset=[\"Confirmed\"])\\\n",
        "                        .background_gradient(cmap='Reds',subset=[\"Deaths\"])\\\n",
        "                        .background_gradient(cmap='Greens',subset=[\"Recovered\"])\\\n",
        "                        .background_gradient(cmap='Purples',subset=[\"Active\"])\\\n",
        "                        .background_gradient(cmap='Pastel1_r',subset=[\"Incident_Rate\"])\\\n",
        "                        .background_gradient(cmap='YlOrBr',subset=[\"Mortality Rate (per 100)\"])\\\n",
        "                        .format(\"{:.2f}\")\\\n",
        "                        .format(\"{:.0f}\",subset=[\"Confirmed\",\"Deaths\",\"Recovered\",\"Active\"])"
      ],
      "execution_count": null,
      "outputs": []
    },
    {
      "cell_type": "markdown",
      "metadata": {
        "id": "BIucwrRTIrz1",
        "colab_type": "text"
      },
      "source": [
        "> Reported cases: Country Wise"
      ]
    },
    {
      "cell_type": "code",
      "metadata": {
        "id": "lAxbMlKuWFCU",
        "colab_type": "code",
        "colab": {}
      },
      "source": [
        "df_countries_cases[\"Mortality Rate (per 100)\"] = np.round(100*df_countries_cases[\"Deaths\"]/df_countries_cases[\"Confirmed\"],2)\n",
        "df_countries_cases.sort_values('Confirmed', ascending= False).style.background_gradient(cmap='Blues',subset=[\"Confirmed\"])\\\n",
        "                        .background_gradient(cmap='Reds',subset=[\"Deaths\"])\\\n",
        "                        .background_gradient(cmap='Greens',subset=[\"Recovered\"])\\\n",
        "                        .background_gradient(cmap='Purples',subset=[\"Active\"])\\\n",
        "                        .background_gradient(cmap='Pastel1_r',subset=[\"Incident_Rate\"])\\\n",
        "                        .background_gradient(cmap='YlOrBr',subset=[\"Mortality Rate (per 100)\"])\\\n",
        "                        .format(\"{:.2f}\")\\\n",
        "                        .format(\"{:.0f}\",subset=[\"Confirmed\",\"Deaths\",\"Recovered\",\"Active\"])"
      ],
      "execution_count": null,
      "outputs": []
    },
    {
      "cell_type": "markdown",
      "metadata": {
        "id": "lY0lQVqjIzhH",
        "colab_type": "text"
      },
      "source": [
        "> Top 10 countries with most no. of confirmed cases"
      ]
    },
    {
      "cell_type": "code",
      "metadata": {
        "id": "7fooWEanWm4b",
        "colab_type": "code",
        "colab": {}
      },
      "source": [
        "f = plt.figure(figsize=(10,5))\n",
        "f.add_subplot(111)\n",
        "plt.axes(axisbelow=True)\n",
        "plt.barh(df_countries_cases.sort_values('Confirmed')[\"Confirmed\"].index[-10:],df_countries_cases.sort_values('Confirmed')[\"Confirmed\"].values[-10:],color=\"khaki\")\n",
        "plt.tick_params(size=5,labelsize = 13)\n",
        "plt.xlabel(\"Confirmed Cases\",fontsize=18)\n",
        "plt.title(\"Top 10 Countries (Confirmed Cases)\",fontsize=20)\n",
        "plt.grid(alpha=0.3)\n",
        "plt.savefig('Top 10 Countries (Confirmed Cases).png')"
      ],
      "execution_count": null,
      "outputs": []
    },
    {
      "cell_type": "markdown",
      "metadata": {
        "id": "Sir1mjelI6cY",
        "colab_type": "text"
      },
      "source": [
        "> Top 10 countries with most no. of death cases"
      ]
    },
    {
      "cell_type": "code",
      "metadata": {
        "id": "GlLElecwW2o_",
        "colab_type": "code",
        "colab": {}
      },
      "source": [
        "f = plt.figure(figsize=(10,5))\n",
        "f.add_subplot(111)\n",
        "\n",
        "plt.axes(axisbelow=True)\n",
        "plt.barh(df_countries_cases.sort_values('Deaths')[\"Deaths\"].index[-10:],df_countries_cases.sort_values('Deaths')[\"Deaths\"].values[-10:],color=\"grey\")\n",
        "plt.tick_params(size=5,labelsize = 13)\n",
        "plt.xlabel(\"Deaths Cases\",fontsize=18)\n",
        "plt.title(\"Top 10 Countries (Deaths Cases)\",fontsize=20)\n",
        "plt.grid(alpha=0.3,which='both')\n",
        "plt.savefig('Top 10 Countries (Deaths Cases).png')"
      ],
      "execution_count": null,
      "outputs": []
    },
    {
      "cell_type": "markdown",
      "metadata": {
        "id": "iY2wI-yqJDC3",
        "colab_type": "text"
      },
      "source": [
        "> Top 10 countries with most no. of recovered cases"
      ]
    },
    {
      "cell_type": "code",
      "metadata": {
        "id": "lVsLnoUpXgut",
        "colab_type": "code",
        "colab": {}
      },
      "source": [
        "f = plt.figure(figsize=(10,5))\n",
        "f.add_subplot(111)\n",
        "\n",
        "plt.axes(axisbelow=True)\n",
        "plt.barh(df_countries_cases.sort_values('Recovered')[\"Recovered\"].index[-10:],df_countries_cases.sort_values('Recovered')[\"Recovered\"].values[-10:],color=\"limegreen\")\n",
        "plt.tick_params(size=5,labelsize = 13)\n",
        "plt.xlabel(\"Recovered Cases\",fontsize=18)\n",
        "plt.title(\"Top 10 Countries (Recovered Cases)\",fontsize=20)\n",
        "plt.grid(alpha=0.3,which='both')\n",
        "plt.savefig('Top 10 Countries (Recovered Cases).png')"
      ],
      "execution_count": null,
      "outputs": []
    },
    {
      "cell_type": "markdown",
      "metadata": {
        "id": "KobTBfBzJOiE",
        "colab_type": "text"
      },
      "source": [
        ">Correlation Heatmap : Country Wise\n",
        "\n"
      ]
    },
    {
      "cell_type": "code",
      "metadata": {
        "id": "exG3DRsDXouZ",
        "colab_type": "code",
        "colab": {}
      },
      "source": [
        "df_countries_cases.iloc[:,:].corr().style.background_gradient(cmap='Reds').format(\"{:.3f}\")"
      ],
      "execution_count": null,
      "outputs": []
    },
    {
      "cell_type": "markdown",
      "metadata": {
        "id": "xqHAIOlkJV6h",
        "colab_type": "text"
      },
      "source": [
        "Correlation Heatmap : Continent Wise"
      ]
    },
    {
      "cell_type": "code",
      "metadata": {
        "id": "sShG0r50Xw6Z",
        "colab_type": "code",
        "colab": {}
      },
      "source": [
        "df_continents_cases.iloc[:,:].corr().style.background_gradient(cmap='Blues').format(\"{:.3f}\")"
      ],
      "execution_count": null,
      "outputs": []
    },
    {
      "cell_type": "markdown",
      "metadata": {
        "id": "TUPRyVgEJgvu",
        "colab_type": "text"
      },
      "source": [
        "# Visualization\n",
        "\n",
        "> World Map"
      ]
    },
    {
      "cell_type": "code",
      "metadata": {
        "id": "rpDZHaLUYAv7",
        "colab_type": "code",
        "colab": {}
      },
      "source": [
        "world_map = folium.Map(location=[10,0], tiles=\"cartodbpositron\", zoom_start=2,max_zoom=6,min_zoom=2)\n",
        "for i in range(0,len(df_confirmed)):\n",
        "    folium.Circle(\n",
        "        location=[df_confirmed.iloc[i]['Lat'], df_confirmed.iloc[i]['Long']],\n",
        "        tooltip = \"<h5 style='text-align:center;font-weight: bold'>\"+df_confirmed.iloc[i]['country']+\"</h5>\"+\n",
        "                    # \"<div style='text-align:center;'>\"+str(np.nan_to_num(df_confirmed.iloc[i]['state']))+\"</div>\"+\n",
        "                    \"<hr style='margin:10px;'>\"+\n",
        "                    \"<ul style='color: #444;list-style-type:circle;align-item:left;padding-left:20px;padding-right:20px'>\"+\n",
        "        \"<li>Confirmed: \"+str(df_confirmed.iloc[i,-1])+\"</li>\"+\n",
        "        \"<li>Deaths:   \"+str(df_deaths.iloc[i,-1])+\"</li>\"+\n",
        "        \"<li>Mortality Rate:   \"+str(np.round(df_deaths.iloc[i,-1]/(df_confirmed.iloc[i,-1]+1.00001)*100,2))+\"</li>\"+\n",
        "        \"</ul>\"\n",
        "        ,\n",
        "        radius=(int((np.log(df_confirmed.iloc[i,-1]+1.00001)))+0.2)*50000,\n",
        "        color='#ff6600',\n",
        "        fill_color='#ff8533',\n",
        "        fill=True).add_to(world_map)"
      ],
      "execution_count": null,
      "outputs": []
    },
    {
      "cell_type": "code",
      "metadata": {
        "id": "uJ02CS3tYKtk",
        "colab_type": "code",
        "colab": {}
      },
      "source": [
        "world_map"
      ],
      "execution_count": null,
      "outputs": []
    },
    {
      "cell_type": "markdown",
      "metadata": {
        "id": "mzOgFsEvJoZE",
        "colab_type": "text"
      },
      "source": [
        "> Spread Progression"
      ]
    },
    {
      "cell_type": "code",
      "metadata": {
        "id": "gsafCq5TYMRl",
        "colab_type": "code",
        "colab": {}
      },
      "source": [
        "df_data = df_table.groupby(['Last_Update', 'Country_Region'])['Confirmed', 'Deaths'].max().reset_index().fillna(0)\n",
        "df_data[\"Last_Update\"] = pd.to_datetime( df_data[\"Last_Update\"]).dt.strftime('%m/%d/%Y')\n",
        "\n",
        "fig = px.scatter_geo(df_data, locations=\"Country_Region\", locationmode='country names', \n",
        "                     color=np.power(df_data[\"Confirmed\"],0.3)-2 , size= np.power(df_data[\"Confirmed\"]+1,0.3)-1, hover_name=\"Country_Region\",\n",
        "                     hover_data=[\"Confirmed\"],\n",
        "                     range_color= [0, max(np.power(df_data[\"Confirmed\"],0.3))], \n",
        "                     projection=\"natural earth\", animation_frame=\"Last_Update\", \n",
        "                     color_continuous_scale=px.colors.sequential.Plasma,\n",
        "                     title='COVID-19: Progression of spread'\n",
        "                    )\n",
        "fig.update_coloraxes(colorscale=\"hot\")\n",
        "fig.update(layout_coloraxis_showscale=False)\n",
        "fig.show()"
      ],
      "execution_count": null,
      "outputs": []
    },
    {
      "cell_type": "markdown",
      "metadata": {
        "id": "lFPY3B96J44A",
        "colab_type": "text"
      },
      "source": [
        "> Number of countries affected over the time"
      ]
    },
    {
      "cell_type": "code",
      "metadata": {
        "id": "9UK34d_uY9xX",
        "colab_type": "code",
        "colab": {}
      },
      "source": [
        "case_nums_country = df_confirmed.groupby(\"country\").sum().drop(['Lat','Long'],axis =1).apply(lambda x: x[x > 0].count(), axis =0)\n",
        "d = [datetime.strptime(date,'%m/%d/%y').strftime(\"%d %b\") for date in case_nums_country.index]\n",
        "\n",
        "f = plt.figure(figsize=(15,8))\n",
        "f.add_subplot(111)\n",
        "marker_style = dict(c=\"crimson\",linewidth=6, linestyle='-', marker='o',markersize=8, markerfacecolor='#ffffff')\n",
        "plt.plot(d, case_nums_country,**marker_style)\n",
        "plt.tick_params(labelsize = 14)\n",
        "plt.xticks(list(np.arange(0,len(d),int(len(d)/5))),d[:-1:int(len(d)/5)]+[d[-1]])\n",
        "\n",
        "#labels\n",
        "plt.xlabel(\"Dates\",fontsize=18)\n",
        "plt.ylabel(\"Number of Countries/Regions\",fontsize=1)\n",
        "plt.grid(alpha = 0.3)\n",
        "\n",
        "plt.savefig('spread.png')\n",
        "plt.show()\n",
        "plt.close()"
      ],
      "execution_count": null,
      "outputs": []
    },
    {
      "cell_type": "markdown",
      "metadata": {
        "id": "cmRnY9h0LXeU",
        "colab_type": "text"
      },
      "source": [
        "> Number of countries affected over the time"
      ]
    },
    {
      "cell_type": "markdown",
      "metadata": {
        "id": "rPtWEB2FKFqN",
        "colab_type": "text"
      },
      "source": [
        "# Some Functions"
      ]
    },
    {
      "cell_type": "code",
      "metadata": {
        "id": "0UCmvhEfKJu1",
        "colab_type": "code",
        "cellView": "both",
        "colab": {}
      },
      "source": [
        "#@title\n",
        "def plot_loss(y):\n",
        "  figure = go.Figure()\n",
        "  figure.add_trace(go.Scatter(x=[i for i in range(1,epochs+1)], y=y,mode='lines',name='loss'))\n",
        "  figure.show()\n",
        "\n",
        "def plot_params(ax,axis_label= None, plt_title = None,label_size=15, axis_fsize = 15, title_fsize = 20, scale = 'linear' ):\n",
        "    # Tick-Parameters\n",
        "    ax.xaxis.set_minor_locator(ticker.AutoMinorLocator())\n",
        "    ax.yaxis.set_minor_locator(ticker.AutoMinorLocator())\n",
        "    ax.tick_params(which='both', width=1,labelsize=label_size)\n",
        "    ax.tick_params(which='major', length=6)\n",
        "    ax.tick_params(which='minor', length=3, color='0.8')\n",
        "    \n",
        "    # Grid\n",
        "    plt.grid(lw = 1, ls = '-', c = \"0.7\", which = 'major')\n",
        "    plt.grid(lw = 1, ls = '-', c = \"0.9\", which = 'minor')\n",
        "\n",
        "    # Plot Title\n",
        "    plt.title( plt_title,{'fontsize':title_fsize})\n",
        "    \n",
        "    # Yaxis sacle\n",
        "    plt.yscale(scale)\n",
        "    plt.minorticks_on()\n",
        "    # Plot Axes Labels\n",
        "    xl = plt.xlabel(axis_label[0],fontsize = axis_fsize)\n",
        "    yl = plt.ylabel(axis_label[1],fontsize = axis_fsize)\n",
        "    \n",
        "def visualize_covid_cases(confirmed, deaths, continent=None , country = None , state = None, period = None, figure = None, scale = \"linear\"):\n",
        "    x = 0\n",
        "    if figure == None:\n",
        "        f = plt.figure(figsize=(10,10))\n",
        "        # Sub plot\n",
        "        ax = f.add_subplot(111)\n",
        "    else :\n",
        "        f = figure[0]\n",
        "        # Sub plot\n",
        "        ax = f.add_subplot(figure[1],figure[2],figure[3])\n",
        "    ax.set_axisbelow(True)\n",
        "    plt.tight_layout(pad=10, w_pad=5, h_pad=5)\n",
        "    \n",
        "    stats = [confirmed, deaths]\n",
        "    label = [\"Confirmed\", \"Deaths\"]\n",
        "    \n",
        "    if continent != None:\n",
        "        params = [\"continent\",continent]\n",
        "    elif country != None:\n",
        "        params = [\"country\",country]\n",
        "    else: \n",
        "        params = [\"All\", \"All\"]\n",
        "    color = [\"darkcyan\",\"crimson\"]\n",
        "    marker_style = dict(linewidth=3, linestyle='-', marker='o',markersize=4, markerfacecolor='#ffffff')\n",
        "    for i,stat in enumerate(stats):\n",
        "        if params[1] == \"All\" :\n",
        "            cases = np.sum(np.asarray(stat.iloc[:,5:]),axis = 0)[x:]\n",
        "        else :\n",
        "            cases = np.sum(np.asarray(stat[stat[params[0]] == params[1]].iloc[:,5:]),axis = 0)[x:]\n",
        "        date = np.arange(1,cases.shape[0]+1)[x:]\n",
        "        plt.plot(date,cases,label = label[i]+\" (Total : \"+str(cases[-1])+\")\",color=color[i],**marker_style)\n",
        "        plt.fill_between(date,cases,color=color[i],alpha=0.3)\n",
        "\n",
        "    if params[1] == \"All\" :\n",
        "        Total_confirmed = np.sum(np.asarray(stats[0].iloc[:,5:]),axis = 0)[x:]\n",
        "        Total_deaths = np.sum(np.asarray(stats[1].iloc[:,5:]),axis = 0)[x:]\n",
        "    else :\n",
        "        Total_confirmed =  np.sum(np.asarray(stats[0][stat[params[0]] == params[1]].iloc[:,5:]),axis = 0)[x:]\n",
        "        Total_deaths = np.sum(np.asarray(stats[1][stat[params[0]] == params[1]].iloc[:,5:]),axis = 0)[x:]\n",
        "        \n",
        "    text = \"From \"+stats[0].columns[5]+\" to \"+stats[0].columns[-1]+\"\\n\"\n",
        "    text += \"Mortality rate : \"+ str(int(Total_deaths[-1]/(Total_confirmed[-1])*10000)/100)+\"\\n\"\n",
        "    text += \"Last 5 Days:\\n\"\n",
        "    text += \"Confirmed : \" + str(Total_confirmed[-1] - Total_confirmed[-6])+\"\\n\"\n",
        "    text += \"Deaths : \" + str(Total_deaths[-1] - Total_deaths[-6])+\"\\n\"\n",
        "    text += \"Last 24 Hours:\\n\"\n",
        "    text += \"Confirmed : \" + str(Total_confirmed[-1] - Total_confirmed[-2])+\"\\n\"\n",
        "    text += \"Deaths : \" + str(Total_deaths[-1] - Total_deaths[-2])+\"\\n\"\n",
        "    \n",
        "    plt.text(0.02, 0.78, text, fontsize=15, horizontalalignment='left', verticalalignment='top', transform=ax.transAxes,bbox=dict(facecolor='white', alpha=0.4))\n",
        "    \n",
        "    # Plot Axes Labels\n",
        "    axis_label = [\"Days (\"+df_confirmed.columns[5]+\" - \"+df_confirmed.columns[-1]+\")\",\"No of Cases\"]\n",
        "    \n",
        "    # Plot Parameters\n",
        "    plot_params(ax,axis_label,scale = scale)\n",
        "    # Plot Title\n",
        "    if params[1] == \"All\" :\n",
        "        plt.title(\"COVID-19 Cases World\",{'fontsize':25})\n",
        "    else:   \n",
        "        plt.title(\"COVID-19: \"+params[1] ,{'fontsize':25})\n",
        "        \n",
        "    # Legend Location\n",
        "    l = plt.legend(loc= \"best\",fontsize = 15)\n",
        "    \n",
        "    if figure == None:\n",
        "        plt.show()\n",
        "        \n",
        "def get_total_cases(cases, country = \"All\"):\n",
        "    if(country == \"All\") :\n",
        "        return np.sum(np.asarray(cases.iloc[:,5:]),axis = 0)[-1]\n",
        "    else :\n",
        "        return np.sum(np.asarray(cases[cases[\"country\"] == country].iloc[:,5:]),axis = 0)[-1]\n",
        "    \n",
        "def get_mortality_rate(confirmed,deaths, continent = None, country = None):\n",
        "    if continent != None:\n",
        "        params = [\"continent\",continent]\n",
        "    elif country != None:\n",
        "        params = [\"country\",country]\n",
        "    else :\n",
        "        params = [\"All\", \"All\"]\n",
        "    \n",
        "    if params[1] == \"All\" :\n",
        "        Total_confirmed = np.sum(np.asarray(confirmed.iloc[:,5:]),axis = 0)\n",
        "        Total_deaths = np.sum(np.asarray(deaths.iloc[:,5:]),axis = 0)\n",
        "        mortality_rate = np.round((Total_deaths/(Total_confirmed+1.01))*100,2)\n",
        "    else :\n",
        "        Total_confirmed =  np.sum(np.asarray(confirmed[confirmed[params[0]] == params[1]].iloc[:,5:]),axis = 0)\n",
        "        Total_deaths = np.sum(np.asarray(deaths[deaths[params[0]] == params[1]].iloc[:,5:]),axis = 0)\n",
        "        mortality_rate = np.round((Total_deaths/(Total_confirmed+1.01))*100,2)\n",
        "    \n",
        "    return np.nan_to_num(mortality_rate)\n",
        "def dd(date1,date2):\n",
        "    return (datetime.strptime(date1,'%m/%d/%y') - datetime.strptime(date2,'%m/%d/%y')).days"
      ],
      "execution_count": null,
      "outputs": []
    },
    {
      "cell_type": "markdown",
      "metadata": {
        "id": "fTF7mwf2VzgA",
        "colab_type": "text"
      },
      "source": [
        "Covid-19 Cases : No. of Confirmed & No. of Deaths - World"
      ]
    },
    {
      "cell_type": "code",
      "metadata": {
        "id": "YL4KxxqAZD5Y",
        "colab_type": "code",
        "colab": {}
      },
      "source": [
        "cols = 1\n",
        "rows = 1\n",
        "f = plt.figure(figsize=(10,10*rows))\n",
        "visualize_covid_cases(df_confirmed, df_deaths,continent = \"All\",figure = [f,rows,cols, 1])\n",
        "plt.savefig('COIVD-19-World.png')\n",
        "plt.show()"
      ],
      "execution_count": null,
      "outputs": []
    },
    {
      "cell_type": "markdown",
      "metadata": {
        "id": "CbbLim8XKY5B",
        "colab_type": "text"
      },
      "source": [
        "> Covid-19 Cases : No. of Confirmed & No. of Deaths - Continents"
      ]
    },
    {
      "cell_type": "code",
      "metadata": {
        "id": "Wccw1pJALY6H",
        "colab_type": "code",
        "colab": {}
      },
      "source": [
        "df_continents= df_confirmed.groupby([\"continent\"]).sum()\n",
        "continents = df_continents.sort_values(df_continents.columns[-1],ascending = False).index\n",
        "\n",
        "cols =2\n",
        "rows = int(np.ceil(continents.shape[0]/cols))\n",
        "f = plt.figure(figsize=(20,9*rows))\n",
        "for i,continent in enumerate(continents):\n",
        "    visualize_covid_cases(df_confirmed, df_deaths, continent = continent,figure = [f,rows,cols, i+1])\n",
        "\n",
        "plt.show()"
      ],
      "execution_count": null,
      "outputs": []
    },
    {
      "cell_type": "markdown",
      "metadata": {
        "id": "t18pemYyZ788",
        "colab_type": "text"
      },
      "source": [
        ">  Covid-19 Cases : No. of Confirmed & No. of Deaths - Countries"
      ]
    },
    {
      "cell_type": "code",
      "metadata": {
        "id": "35u6_wuSZnhs",
        "colab_type": "code",
        "colab": {}
      },
      "source": [
        "df_countries = df_confirmed.groupby([\"country\"]).sum()\n",
        "df_countries = df_countries.sort_values(df_countries.columns[-1],ascending = False)\n",
        "countries = df_countries[df_countries[df_countries.columns[-1]] >= 15000].index\n",
        "\n",
        "cols =2\n",
        "rows = int(np.ceil(countries.shape[0]/cols))\n",
        "f = plt.figure(figsize=(18,7*rows))\n",
        "for i,country in enumerate(countries):\n",
        "    visualize_covid_cases(df_confirmed, df_deaths,country = country,figure = [f,rows,cols, i+1])\n",
        "\n",
        "plt.show()"
      ],
      "execution_count": null,
      "outputs": []
    },
    {
      "cell_type": "markdown",
      "metadata": {
        "id": "fqEiVEsULGCA",
        "colab_type": "text"
      },
      "source": [
        "> Trend Projection"
      ]
    },
    {
      "cell_type": "code",
      "metadata": {
        "id": "A-JMYBwgaB8u",
        "colab_type": "code",
        "colab": {}
      },
      "source": [
        "temp_data = df_confirmed.iloc[:,5:].sum(axis =0)\n",
        "f = plt.figure(figsize=(20,12))\n",
        "f.add_subplot(111)\n",
        "\n",
        "threshold = 100000\n",
        "\n",
        "t = temp_data.values\n",
        "t = t[t >threshold]\n",
        "\n",
        "date = np.arange(0,len(t[:]))\n",
        "xnew = np.linspace(date.min(), date.max(), 10)\n",
        "spl = make_interp_spline(date, t, k=1)  # type: BSpline\n",
        "power_smooth = spl(xnew)\n",
        "\n",
        "marker_style = dict(linewidth=4, linestyle='-', marker='o',markersize=10, markerfacecolor='#ffffff')\n",
        "plt.plot(date,t,\"-.\",label=\"Confirmed Cases\",**marker_style)\n",
        "\n",
        "days  = 150\n",
        "# Reference lines \n",
        "x = np.arange(0,days)\n",
        "y = 2**(x+np.log2(threshold))\n",
        "plt.plot(x,y,\"--\",linewidth =1,color = \"gray\")\n",
        "plt.annotate(\"No. of Cases Doubles Every Day\",(np.log2((t.max()-threshold)/threshold),t.max()-threshold/2),xycoords=\"data\",fontsize=14,alpha = 0.5)\n",
        "\n",
        "x = np.arange(0,days)\n",
        "y = 2**(x/3+np.log2(threshold))\n",
        "plt.plot(x,y,\"--\",linewidth =1,color = \"gray\")\n",
        "plt.annotate(\"...Every Third Day\",(np.log2((t.max()-threshold)/threshold)*3,(t.max()/1.2)-threshold/2),xycoords=\"data\",fontsize=14,alpha = 0.5)\n",
        "\n",
        "x = np.arange(0,days)\n",
        "y = 2**(x/7+np.log2(threshold))\n",
        "plt.plot(x,y,\"--\",linewidth =1,color = \"gray\")\n",
        "plt.annotate(\"... Every Week\",(np.log2((t.max()-threshold)/threshold)*7,t.max()-threshold),xycoords=\"data\",fontsize=14,alpha = 0.5)\n",
        "\n",
        "x = np.arange(0,days)\n",
        "y = 2**(x/30+np.log2(threshold))\n",
        "plt.plot(x,y,\"--\",linewidth =1,color = \"gray\")\n",
        "plt.annotate(\".. Every Month\",(len(t)-25,2**((len(t)-25)/30+np.log2(threshold))),xycoords=\"data\",fontsize=14,alpha = 0.5)\n",
        "\n",
        "x = np.arange(0,days)\n",
        "y = 2**(x/13+np.log2(threshold))\n",
        "plt.plot(x,y,\"--\",linewidth =1,color = \"Red\")\n",
        "plt.annotate(\".. Every 13 Days\",(np.log2((t.max()-threshold)/threshold)*13,t.max()-threshold),color=\"Red\",xycoords=\"data\",fontsize=14,alpha = 0.8)\n",
        "\n",
        "\n",
        "plt.xlim(date[0],date[-1])\n",
        "plt.ylim(threshold - threshold/10,2*t.max())\n",
        "# plot Params\n",
        "# plt.tight_layout()\n",
        "plt.tick_params(labelsize = 16)        \n",
        "plt.xticks(np.arange(0,len(t[:])+10,10),[ \"Day \"+str(i) for i in range(len(t[:])+10)][::10]) \n",
        "plt.xlabel(\"Days\",fontsize=19)\n",
        "plt.ylabel(\"Number of Confirmed Cases\",fontsize=19)\n",
        "plt.title(\"World Trend\",fontsize=24)\n",
        "plt.legend(loc = \"upper left\")\n",
        "plt.yscale(\"log\")\n",
        "plt.grid(which=\"both\")\n",
        "plt.savefig(\"World Trend Confirmed cases.png\")\n",
        "plt.show()"
      ],
      "execution_count": null,
      "outputs": []
    },
    {
      "cell_type": "markdown",
      "metadata": {
        "id": "AcpU0a_8Q-b4",
        "colab_type": "text"
      },
      "source": [
        "> Trend Comparison : India Vs Rest"
      ]
    },
    {
      "cell_type": "code",
      "metadata": {
        "id": "aHTYoTcxQxem",
        "colab_type": "code",
        "colab": {}
      },
      "source": [
        "temp = df_confirmed.groupby('country').sum().drop([\"Lat\",\"Long\"],axis =1).sort_values(df_confirmed.columns[-1], ascending= False)\n",
        "\n",
        "threshold = 50\n",
        "f = plt.figure(figsize=(15,12))\n",
        "ax = f.add_subplot(111)\n",
        "for i,country in enumerate(temp.index):\n",
        "    if i >= 9:\n",
        "        if country != \"India\" and country != \"Japan\" :\n",
        "            continue\n",
        "    days = 61\n",
        "    t = temp.loc[temp.index== country].values[0]\n",
        "    t = t[t>threshold][:days]\n",
        "     \n",
        "    date = np.arange(0,len(t[:days]))\n",
        "    xnew = np.linspace(date.min(), date.max(), 30)\n",
        "    spl = make_interp_spline(date, t, k=1)  # type: BSpline\n",
        "    power_smooth = spl(xnew)\n",
        "    if country != \"India\":\n",
        "        plt.plot(xnew,power_smooth,'-o',label = country,linewidth =3, markevery=[-1])\n",
        "    else:\n",
        "        marker_style = dict(linewidth=4, linestyle='-', marker='o',markersize=10, markerfacecolor='#ffffff')\n",
        "        plt.plot(date,t,\"-.\",label = country,**marker_style)\n",
        "\n",
        "plt.tick_params(labelsize = 14)        \n",
        "plt.xticks(np.arange(0,days,7),[ \"Day \"+str(i) for i in range(days)][::7])     \n",
        "\n",
        "# Reference lines \n",
        "x = np.arange(0,18)\n",
        "y = 2**(x+np.log2(threshold))\n",
        "plt.plot(x,y,\"--\",linewidth =2,color = \"gray\")\n",
        "plt.annotate(\"No. of cases doubles every day\",(x[-2],y[-1]),xycoords=\"data\",fontsize=14,alpha = 0.5)\n",
        "\n",
        "x = np.arange(0,int(days-22))\n",
        "y = 2**(x/2+np.log2(threshold))\n",
        "plt.plot(x,y,\"--\",linewidth =2,color = \"gray\")\n",
        "plt.annotate(\".. every second day\",(x[-3],y[-1]),xycoords=\"data\",fontsize=14,alpha = 0.5)\n",
        "\n",
        "x = np.arange(0,int(days-4))\n",
        "y = 2**(x/7+np.log2(threshold))\n",
        "plt.plot(x,y,\"--\",linewidth =2,color = \"gray\")\n",
        "plt.annotate(\".. every week\",(x[-3],y[-1]),xycoords=\"data\",fontsize=14,alpha = 0.5)\n",
        "\n",
        "x = np.arange(0,int(days-4))\n",
        "y = 2**(x/30+np.log2(threshold))\n",
        "plt.plot(x,y,\"--\",linewidth =2,color = \"gray\")\n",
        "plt.annotate(\".. every month\",(x[-3],y[-1]),xycoords=\"data\",fontsize=14,alpha = 0.5)\n",
        "\n",
        "\n",
        "# India is following trend similar to doulbe the cases in 4 days but it may increase the rate \n",
        "x = np.arange(0,int(days-5))\n",
        "y = 2**(x/4+np.log2(threshold))\n",
        "plt.plot(x,y,\"--\",linewidth =2,color = \"Red\")\n",
        "plt.annotate(\".. every 4 days\",(x[-3],y[-1]),color=\"Red\",xycoords=\"data\",fontsize=14,alpha = 0.8)\n",
        "\n",
        "# plot Params\n",
        "plt.xlabel(\"Days\",fontsize=17)\n",
        "plt.ylabel(\"Number of Confirmed Cases\",fontsize=17)\n",
        "plt.title(\"Trend Comparison of Different Countries\\n and India (confirmed) \",fontsize=22)\n",
        "plt.legend(loc = \"upper left\")\n",
        "plt.yscale(\"log\")\n",
        "plt.grid(which=\"both\")\n",
        "plt.savefig('Trend Comparison with India (confirmed).png')\n",
        "plt.show()"
      ],
      "execution_count": null,
      "outputs": []
    },
    {
      "cell_type": "markdown",
      "metadata": {
        "id": "Rfpc_wFFRef1",
        "colab_type": "text"
      },
      "source": [
        "> Daily New Confirmed cases : Global"
      ]
    },
    {
      "cell_type": "code",
      "metadata": {
        "id": "xS6jEFG9RbXZ",
        "colab_type": "code",
        "colab": {}
      },
      "source": [
        "temp_data = np.nan_to_num(df_confirmed.sum()[5:].diff())\n",
        "thousand = 1000\n",
        "prediction_days = 10\n",
        "# Plot\n",
        "f = plt.figure(figsize=(15,10))\n",
        "ax = f.add_subplot(111)\n",
        "\n",
        "\n",
        "date = np.arange(0,len(temp_data))\n",
        "\n",
        "marker_style = dict(linewidth=2, linestyle='-', marker='o',markersize=5)\n",
        "plt.plot(date,temp_data/thousand,\"-.\",color=\"red\",**marker_style)\n",
        "\n",
        "\n",
        "nextdays = [(datetime.strptime(d[-1],'%d %b')+timedelta(days=i)).strftime(\"%d %b\") for i in range(1,prediction_days+1)]\n",
        "total =d+nextdays\n",
        "\n",
        "# X-axis\n",
        "plt.xticks(list(np.arange(0,len(total),int(len(total)/5))),total[:-1:int(len(total)/5)]+[total[-1]])\n",
        "\n",
        "# Tick-Parameters\n",
        "ax.xaxis.set_minor_locator(ticker.AutoMinorLocator())\n",
        "ax.yaxis.set_minor_locator(ticker.AutoMinorLocator())\n",
        "ax.tick_params(which='both', width=1,labelsize=12)\n",
        "ax.tick_params(which='major', length=6)\n",
        "ax.tick_params(which='minor', length=3, color='0.8')\n",
        "\n",
        "# Grid\n",
        "plt.grid(lw = 1, ls = '-', c = \"0.85\", which = 'major')\n",
        "plt.grid(lw = 1, ls = '-', c = \"0.95\", which = 'minor')\n",
        "\n",
        "# Plot Title\n",
        "plt.title(\"COVID-19 Global Daily New Confirmed Cases\",{'fontsize':22})\n",
        "\n",
        "# Axis Lable\n",
        "plt.xlabel(\"Date\",fontsize =18)\n",
        "plt.ylabel(\"Number of Daily Confirmed Cases (Thousand)\",fontsize =18)\n",
        "\n",
        "# plt.yscale(\"log\")\n",
        "plt.tick_params(labelsize = 13) \n",
        "plt.savefig(\"daily confirmed cases global.png\")\n",
        "plt.show()\n"
      ],
      "execution_count": null,
      "outputs": []
    },
    {
      "cell_type": "markdown",
      "metadata": {
        "id": "SFJPWbmiRxNW",
        "colab_type": "text"
      },
      "source": [
        "> Daily New Deaths : Global"
      ]
    },
    {
      "cell_type": "code",
      "metadata": {
        "id": "O0HAuCqPRwVF",
        "colab_type": "code",
        "colab": {}
      },
      "source": [
        "# Data\n",
        "temp_data = np.nan_to_num(df_deaths.sum()[5:].diff())\n",
        "\n",
        "\n",
        "# Plot\n",
        "f = plt.figure(figsize=(15,10))\n",
        "ax = f.add_subplot(111)\n",
        "\n",
        "\n",
        "date = np.arange(0,len(temp_data))\n",
        "\n",
        "marker_style = dict(linewidth=2, linestyle='-', marker='o',markersize=5)\n",
        "plt.plot(date,temp_data/thousand,\"-.\",color=\"red\",**marker_style)\n",
        "\n",
        "\n",
        "nextdays = [(datetime.strptime(d[-1],'%d %b')+timedelta(days=i)).strftime(\"%d %b\") for i in range(1,prediction_days+1)]\n",
        "total =d+nextdays\n",
        "\n",
        "# X-axis\n",
        "plt.xticks(list(np.arange(0,len(total),int(len(total)/5))),total[:-1:int(len(total)/5)]+[total[-1]])\n",
        "\n",
        "# Tick-Parameters\n",
        "ax.xaxis.set_minor_locator(ticker.AutoMinorLocator())\n",
        "ax.yaxis.set_minor_locator(ticker.AutoMinorLocator())\n",
        "ax.tick_params(which='both', width=1,labelsize=14)\n",
        "ax.tick_params(which='major', length=6)\n",
        "ax.tick_params(which='minor', length=3, color='0.8')\n",
        "\n",
        "# Grid\n",
        "plt.grid(lw = 1, ls = '-', c = \"0.85\", which = 'major')\n",
        "plt.grid(lw = 1, ls = '-', c = \"0.95\", which = 'minor')\n",
        "\n",
        "# Plot Title\n",
        "plt.title(\"COVID-19 Global Daily Deaths Reported\",{'fontsize':22})\n",
        "\n",
        "# Axis Lable\n",
        "plt.xlabel(\"Date\",fontsize =18)\n",
        "plt.ylabel(\"Number of Daily Deaths Reported (Thousand)\",fontsize =18)\n",
        "\n",
        "# plt.yscale(\"log\")\n",
        "plt.savefig(\"daily deaths cases Global.png\")\n",
        "plt.show()"
      ],
      "execution_count": null,
      "outputs": []
    },
    {
      "cell_type": "markdown",
      "metadata": {
        "id": "gBIIraB4XuAU",
        "colab_type": "text"
      },
      "source": [
        "> Pie Chart : Confirmed,Deaths,Active and Recovered cases\n"
      ]
    },
    {
      "cell_type": "code",
      "metadata": {
        "id": "ICgBoxhfXtb5",
        "colab_type": "code",
        "colab": {}
      },
      "source": [
        "rows = 4\n",
        "f = plt.figure(figsize=(20,12*rows))\n",
        "\n",
        "stats = [df_covid19.loc[:,['country','Confirmed']],df_covid19.loc[:,['country','Deaths']],df_covid19.loc[:,['country','Active']],df_covid19.loc[:,['country','Recovered']]]\n",
        "label = [\"Confirmed\",\"Deaths\",\"Active\",\"Recovered\"]\n",
        "threshold = [50000,5000,20000,30000]\n",
        "for i, stat in enumerate(stats):\n",
        "    plt.tight_layout()\n",
        "    df_countries = stat.groupby([\"country\"]).sum()\n",
        "    df_countries = df_countries.sort_values(df_countries.columns[-1],ascending= False)\n",
        "    others = df_countries[df_countries[df_countries.columns[-1]] < threshold[i] ].sum()[-1]\n",
        "    df_countries = df_countries[df_countries[df_countries.columns[-1]] > threshold[i]]\n",
        "    df_countries = df_countries[df_countries.columns[-1]]\n",
        "    df_countries[\"others\"] = others\n",
        "    labels = [df_countries.index[i] +\" (\" + str(int(df_countries[i])) +\") \"for i in range(df_countries.shape[0])]\n",
        "\n",
        "    ax = f.add_subplot(rows,1,i+1)\n",
        "    plt.pie(df_countries, labels=labels,autopct='%1.1f%%',pctdistance=0.85, labeldistance=1.2,textprops = {'fontsize':10.5})\n",
        "    my_circle=plt.Circle( (0,0), 0.7, color='white')\n",
        "    p=plt.gcf()\n",
        "    p.gca().add_artist(my_circle)\n",
        "    plt.text(0.5,0.5,\"World Total \"+label[i]+ \" COVID-19 Cases\\n\"+str(stat.sum().values[1]), horizontalalignment='center',verticalalignment='center',transform=ax.transAxes, size=18, alpha = 0.6)\n",
        "\n",
        "\n",
        "plt.show()"
      ],
      "execution_count": null,
      "outputs": []
    },
    {
      "cell_type": "markdown",
      "metadata": {
        "id": "cexja9NzYR90",
        "colab_type": "text"
      },
      "source": [
        "> World Mortality Rate"
      ]
    },
    {
      "cell_type": "code",
      "metadata": {
        "id": "5dUIOma_YOgW",
        "colab_type": "code",
        "colab": {}
      },
      "source": [
        "df_continents= df_confirmed.groupby([\"continent\"]).sum()\n",
        "continents = df_continents.sort_values(df_continents.columns[-1],ascending = False).index\n",
        "continents = [\"All\"]+list(continents)\n",
        "\n",
        "cols =1\n",
        "rows = 2\n",
        "axis_label = [\"Days (\"+df_confirmed.columns[5]+\" - \"+df_confirmed.columns[-1]+\")\",\"Mortality Rate (of 100)\"]\n",
        "\n",
        "f = plt.figure(figsize=(15,10*rows))\n",
        "\n",
        "#SubPlot 1\n",
        "ax = f.add_subplot(211)\n",
        "mortality_rate = get_mortality_rate(df_confirmed,df_deaths,continent=continents[0])\n",
        "plt.plot(np.arange(1,mortality_rate.shape[0]+1),mortality_rate,label = \"World : Current Mortality Rate \"+str(mortality_rate[-1]),linewidth=3)\n",
        "\n",
        "nextdays = [(datetime.strptime(d[-1],'%d %b')+timedelta(days=i)).strftime(\"%d %b\") for i in range(1,prediction_days+1)]\n",
        "total =d+nextdays\n",
        "\n",
        "# X-axis\n",
        "plt.xticks(list(np.arange(0,len(total),int(len(total)/5))),total[:-1:int(len(total)/5)]+[total[-1]])\n",
        "\n",
        "plt_title = \"COVID-19: World Mortality Rate Curve\"\n",
        "plot_params(ax,axis_label,plt_title)\n",
        "# Legend Location\n",
        "l = plt.legend(loc= \"best\")\n",
        "\n",
        "\n",
        "#SubPlot 2\n",
        "ax = f.add_subplot(212)\n",
        "for i, continent in enumerate(continents[1:]):\n",
        "    mortality_rate = get_mortality_rate(df_confirmed,df_deaths,continent=continent)\n",
        "#     mortality_rate = mortality_rate.replace(np.nan, 0, regex=True)\n",
        "    plt.plot(np.arange(1+mortality_rate[mortality_rate == 0].shape[0],mortality_rate[mortality_rate == 0].shape[0]+mortality_rate[mortality_rate > 0].shape[0]+1),mortality_rate[mortality_rate > 0],label = continents[i+1]+\" \"+str(mortality_rate[-1]),linewidth=3)\n",
        "\n",
        "\n",
        "\n",
        "# X-axis\n",
        "plt.xticks(list(np.arange(0,len(total),int(len(total)/5))),total[:-1:int(len(total)/5)]+[total[-1]])\n",
        "    \n",
        "plt_title = \"COVID-19: Mortality Rate Curve for all Continents\"\n",
        "plot_params(ax,axis_label,plt_title)\n",
        "\n",
        "# Legend Location\n",
        "l = plt.legend(loc= \"best\")\n",
        "\n",
        "plt.minorticks_on()\n",
        "plt.savefig('Mortality rate.png')\n",
        "plt.show()"
      ],
      "execution_count": null,
      "outputs": []
    },
    {
      "cell_type": "markdown",
      "metadata": {
        "id": "NhdFhrmlYpw0",
        "colab_type": "text"
      },
      "source": [
        "> Variation of Mortality Rate"
      ]
    },
    {
      "cell_type": "code",
      "metadata": {
        "id": "_vH1e5odYWMC",
        "colab_type": "code",
        "colab": {}
      },
      "source": [
        "df_data = df_table.groupby(['Last_Update', 'Country_Region'])['Confirmed', 'Deaths','continent'].max().reset_index().fillna(0)\n",
        "df_data[\"Last_Update\"] = pd.to_datetime( df_data[\"Last_Update\"]).dt.strftime('%m/%d/%Y')\n",
        "\n",
        "fig = px.scatter(df_data, y=100*df_data[\"Deaths\"]/(df_data[\"Confirmed\"]+1),\n",
        "                    x= df_data[\"Confirmed\"]+1,\n",
        "                    range_y = [-1,18],\n",
        "                    range_x = [1,df_data[\"Confirmed\"].max()+10000],\n",
        "                    color= \"continent\", hover_name=\"Country_Region\",\n",
        "                    hover_data=[\"Confirmed\",\"Deaths\"],\n",
        "                    range_color= [0, max(np.power(df_data[\"Confirmed\"],0.3))], \n",
        "                    animation_frame=\"Last_Update\", \n",
        "                    animation_group=\"Country_Region\",\n",
        "                    color_continuous_scale=px.colors.sequential.Plasma,\n",
        "                    title='COVID-19: Change in Mortality Rate of Each Countries Over Time',\n",
        "                    size = np.power(df_data[\"Confirmed\"]+1,0.3)-0.5,\n",
        "                    size_max = 30,\n",
        "                    log_x=True,\n",
        "                    height =700,\n",
        "                    )\n",
        "fig.update_coloraxes(colorscale=\"hot\")\n",
        "fig.update(layout_coloraxis_showscale=False)\n",
        "fig.update_xaxes(title_text=\"Confirmed Cases (Log Scale)\")\n",
        "fig.update_yaxes(title_text=\"Mortality Rate (%)\")\n",
        "fig.show()\n"
      ],
      "execution_count": null,
      "outputs": []
    },
    {
      "cell_type": "markdown",
      "metadata": {
        "id": "JX3tNac-M6le",
        "colab_type": "text"
      },
      "source": [
        "# Machine Learning\n",
        "Machine Learning Model Used : SupportVectorRegressor"
      ]
    },
    {
      "cell_type": "code",
      "metadata": {
        "id": "NkIVv5yv9Giw",
        "colab_type": "code",
        "colab": {}
      },
      "source": [
        "cols_conf = df_confirmed.keys()\n",
        "confirmed = df_confirmed.loc[:, cols_conf[4]:cols_conf[-1]]\n",
        "dates_confirmed = confirmed.keys()\n",
        "\n",
        "days_confirmed=[]\n",
        "world_cases_confirmed=[]\n",
        "\n",
        "for i in dates_confirmed:\n",
        "    confirmed_sum = confirmed[i].sum()\n",
        "    world_cases_confirmed.append(confirmed_sum)\n",
        "\n",
        "days_confirmed = np.array([i for i in range(len(dates_confirmed))]).reshape(-1, 1)\n",
        "world_cases_confirmed = np.array(world_cases_confirmed).reshape(-1, 1)\n",
        "\n",
        "#\n",
        "days_in_future = 50\n",
        "future_forcast_confirmed = np.array([i for i in range(len(dates_confirmed)+days_in_future)]).reshape(-1, 1)"
      ],
      "execution_count": null,
      "outputs": []
    },
    {
      "cell_type": "code",
      "metadata": {
        "id": "MhHcDY3_w69Z",
        "colab_type": "code",
        "colab": {}
      },
      "source": [
        "X_train_confirmed, X_test_confirmed, y_train_confirmed, y_test_confirmed = train_test_split(days_confirmed[50:], world_cases_confirmed[50:], test_size=0.20, shuffle=False)"
      ],
      "execution_count": null,
      "outputs": []
    },
    {
      "cell_type": "code",
      "metadata": {
        "id": "q7Pmry2nAQoP",
        "colab_type": "code",
        "colab": {}
      },
      "source": [
        "# # used this to find the optimal parameters for SVR\n",
        "# c = [0.01, 0.1, 1]\n",
        "# gamma = [0.01, 0.1, 1]\n",
        "# epsilon = [0.01, 0.1, 1]\n",
        "# shrinking = [True, False]\n",
        "# degree = [3, 4, 5]\n",
        "\n",
        "# svm_grid = {'C': c, 'gamma' : gamma, 'epsilon': epsilon, 'shrinking' : shrinking, 'degree': degree}\n",
        "\n",
        "# svm = SVR(kernel='poly')\n",
        "# svm_search = RandomizedSearchCV(svm, svm_grid, scoring='neg_mean_squared_error', cv=3, return_train_score=True, n_jobs=-1, n_iter=30, verbose=1)\n",
        "# svm_search.fit(X_train_confirmed, y_train_confirmed)\n",
        "# svm_search.best_params_"
      ],
      "execution_count": null,
      "outputs": []
    },
    {
      "cell_type": "code",
      "metadata": {
        "id": "KyfVhRirxUeG",
        "colab_type": "code",
        "colab": {}
      },
      "source": [
        "# svr = svm_search.best_estimator_\n",
        "# print(svm_search.best_estimator_)"
      ],
      "execution_count": null,
      "outputs": []
    },
    {
      "cell_type": "code",
      "metadata": {
        "id": "cG6h_cUZzTCg",
        "colab_type": "code",
        "colab": {}
      },
      "source": [
        "# ## Scaling\n",
        "\n",
        "# std = RobustScaler()\n",
        "\n",
        "# X_test_confirmed = std.fit_transform(X_test_confirmed)\n",
        "# X_train_confirmed = std.fit_transform(X_train_confirmed)\n",
        "# y_train_confirmed = std.fit_transform(y_train_confirmed)\n",
        "# y_test_confirmed = std.fit_transform(y_test_confirmed)\n"
      ],
      "execution_count": null,
      "outputs": []
    },
    {
      "cell_type": "code",
      "metadata": {
        "id": "3LMQLN-Y_eFS",
        "colab_type": "code",
        "colab": {}
      },
      "source": [
        "svm = SVR(shrinking=True, kernel='poly',gamma=0.01, epsilon=1,degree=3, C=0.1)\n",
        "\n",
        "svm.fit(X_train_confirmed, y_train_confirmed)\n",
        "svm_pred = svm.predict(future_forcast_confirmed)\n",
        "svm_test_pred = svm.predict(X_test_confirmed)\n",
        "\n",
        "plt.title('Confirmed Cases - SVR')\n",
        "plt.plot(y_test_confirmed)\n",
        "plt.plot(svm_test_pred)\n",
        "plt.legend(['Test Data', 'SVM Predictions'])\n",
        "\n",
        "print('MAE:', mean_absolute_error(svm_test_pred, y_test_confirmed))\n",
        "print('MSE:',mean_squared_error(svm_test_pred, y_test_confirmed))\n",
        "print('R2_Score:',r2_score(svm_test_pred, y_test_confirmed))"
      ],
      "execution_count": null,
      "outputs": []
    },
    {
      "cell_type": "code",
      "metadata": {
        "id": "DuBKj_NhqXrf",
        "colab_type": "code",
        "colab": {}
      },
      "source": [
        "poly = PolynomialFeatures(degree=5)\n",
        "poly_X_train_confirmed = poly.fit_transform(X_train_confirmed)\n",
        "poly_X_test_confirmed = poly.fit_transform(X_test_confirmed)\n",
        "poly_future_forcast = poly.fit_transform(future_forcast_confirmed)\n",
        "\n",
        "bayesian_poly = PolynomialFeatures(degree=4)\n",
        "bayesian_poly_X_train_confirmed = bayesian_poly.fit_transform(X_train_confirmed)\n",
        "bayesian_poly_X_test_confirmed = bayesian_poly.fit_transform(X_test_confirmed)\n",
        "bayesian_poly_future_forcast = bayesian_poly.fit_transform(future_forcast_confirmed)"
      ],
      "execution_count": null,
      "outputs": []
    },
    {
      "cell_type": "code",
      "metadata": {
        "id": "4ArdjlOYsbfF",
        "colab_type": "code",
        "colab": {}
      },
      "source": [
        "linear_model = LinearRegression(normalize=True, fit_intercept=False)\n",
        "linear_model.fit(poly_X_train_confirmed, y_train_confirmed)\n",
        "test_linear_pred = linear_model.predict(poly_X_test_confirmed)\n",
        "linear_pred = linear_model.predict(poly_future_forcast)\n",
        "print('MAE:', mean_absolute_error(test_linear_pred, y_test_confirmed))\n",
        "print('MSE:',mean_squared_error(test_linear_pred, y_test_confirmed))\n",
        "\n",
        "print(linear_model.coef_)"
      ],
      "execution_count": null,
      "outputs": []
    },
    {
      "cell_type": "code",
      "metadata": {
        "id": "WtTJpZy0s19a",
        "colab_type": "code",
        "colab": {}
      },
      "source": [
        "print('R2_Score:',r2_score(test_linear_pred, y_test_confirmed))\n",
        "plt.plot(y_test_confirmed)\n",
        "plt.title('Confirmed Cases - Polynomial Regression')\n",
        "plt.plot(test_linear_pred)\n",
        "plt.legend(['Test Data', 'Polynomial Regression Predictions'])\n",
        "plt.show()"
      ],
      "execution_count": null,
      "outputs": []
    },
    {
      "cell_type": "markdown",
      "metadata": {
        "id": "6IIRpatiXJqa",
        "colab_type": "text"
      },
      "source": [
        "# Deep Learning\n",
        "\n",
        "Framework Used : Keras"
      ]
    },
    {
      "cell_type": "markdown",
      "metadata": {
        "id": "2sXwxUOXAsIy",
        "colab_type": "text"
      },
      "source": [
        "> Building Model : Confirmed Cases\n"
      ]
    },
    {
      "cell_type": "code",
      "metadata": {
        "id": "qUI_g672aMD9",
        "colab_type": "code",
        "colab": {}
      },
      "source": [
        "Visible = Input(shape=(1,))\n",
        "Dense_l1 = Dense(80,name=\"Dense_l1\")(Visible)\n",
        "LRelu_l1 = LeakyReLU(name = \"LRelu_l1\")(Dense_l1)\n",
        "\n",
        "Dense_l2 = Dense(80,name = \"Dense_l2\")(LRelu_l1)\n",
        "LRelu_l2 = LeakyReLU(name = \"LRelu_l2\")(Dense_l2)\n",
        "\n",
        "Dense_l3 = Dense(80,name = \"Dense_l3\")(LRelu_l2)\n",
        "LRelu_l3 = LeakyReLU(name = \"LRelu_l3\")(Dense_l3)\n",
        "\n",
        "Dense_l4 = Dense(1,name=\"Dense_l4\")(LRelu_l3)\n",
        "LRelu_l4 = LeakyReLU(name = \"Output\")(Dense_l4\n",
        "                                     )\n",
        "model = models.Model(inputs=Visible, outputs=LRelu_l4)\n",
        "model.compile(optimizer=Adam(lr=0.001), \n",
        "              loss='mean_squared_error',\n",
        "              metrics=['accuracy'])\n",
        "model.summary()"
      ],
      "execution_count": null,
      "outputs": []
    },
    {
      "cell_type": "markdown",
      "metadata": {
        "id": "d2k3BEGFAzlW",
        "colab_type": "text"
      },
      "source": [
        "Processing data for fitting : Confirmed Cases"
      ]
    },
    {
      "cell_type": "code",
      "metadata": {
        "id": "cW_1knBjavDG",
        "colab_type": "code",
        "colab": {}
      },
      "source": [
        "data_y = np.log10(np.asarray(df_confirmed.iloc[:,5:].sum(axis =0)).astype(\"float32\"))\n",
        "data_x = np.arange(1,len(data_y)+1)"
      ],
      "execution_count": null,
      "outputs": []
    },
    {
      "cell_type": "markdown",
      "metadata": {
        "id": "NsMizPB_A3VZ",
        "colab_type": "text"
      },
      "source": [
        "Fitting"
      ]
    },
    {
      "cell_type": "code",
      "metadata": {
        "id": "wRKsf0Tpa0w5",
        "colab_type": "code",
        "cellView": "both",
        "colab": {}
      },
      "source": [
        "epochs = 1000\n",
        "history = model.fit(data_x.reshape([data_y.shape[0],1]),data_y.reshape([data_y.shape[0],1]),epochs=epochs)"
      ],
      "execution_count": null,
      "outputs": []
    },
    {
      "cell_type": "code",
      "metadata": {
        "id": "OLQVryhGJ4uL",
        "colab_type": "code",
        "colab": {}
      },
      "source": [
        "plot_loss(history.history['loss'])"
      ],
      "execution_count": null,
      "outputs": []
    },
    {
      "cell_type": "markdown",
      "metadata": {
        "id": "311KjcQwJWsc",
        "colab_type": "text"
      },
      "source": [
        "Model Loss | Epochs"
      ]
    },
    {
      "cell_type": "code",
      "metadata": {
        "id": "f50Mx2D-a3vm",
        "colab_type": "code",
        "colab": {}
      },
      "source": [
        "model.save('my_model_confirmed.h5')"
      ],
      "execution_count": null,
      "outputs": []
    },
    {
      "cell_type": "code",
      "metadata": {
        "id": "JThBVHL3bCFW",
        "colab_type": "code",
        "colab": {}
      },
      "source": [
        "model = models.load_model(\"my_model_confirmed.h5\")\n",
        "model.summary()"
      ],
      "execution_count": null,
      "outputs": []
    },
    {
      "cell_type": "markdown",
      "metadata": {
        "id": "tHt4FN2bLBoa",
        "colab_type": "text"
      },
      "source": [
        "> Prediction : Next 10 days - Confirmed Cases"
      ]
    },
    {
      "cell_type": "code",
      "metadata": {
        "id": "gNilLuIMbbF1",
        "colab_type": "code",
        "cellView": "both",
        "colab": {}
      },
      "source": [
        "#@title\n",
        "lakh = 100000\n",
        "prediction_days = 10\n",
        "\n",
        "temp_data = df_confirmed.iloc[:,5:].sum(axis =0)\n",
        "data = np.power(10,model.predict(np.arange(1,len(temp_data)+prediction_days+1)))\n",
        "f = plt.figure(figsize=(15,10))\n",
        "ax = f.add_subplot(111)\n",
        "\n",
        "date = np.arange(0,len(temp_data))\n",
        "\n",
        "marker_style = dict(linewidth=3, linestyle='-', marker='o',markersize=7, markerfacecolor='#ffffff')\n",
        "plt.plot(date,temp_data/lakh,\"-.\",color=\"darkcyan\",**marker_style, label=\"Actual Curve\")\n",
        "\n",
        "date = np.arange(0,len(data))\n",
        "plt.plot(date,data/lakh,\"-.\",color=\"orangered\",label=\"Predicted Curve\")\n",
        "\n",
        "nextdays = [(datetime.strptime(d[-1],'%d %b')+timedelta(days=i)).strftime(\"%d %b\") for i in range(1,prediction_days+1)]\n",
        "total = d + nextdays\n",
        "\n",
        "text = \"Prediction for next \"+str(prediction_days) +\" days:\\n\"\n",
        "for i in range(prediction_days):\n",
        "    text += nextdays[i]+\" : \"+str(np.round(data[-1*(prediction_days-i)],-3)[0]/lakh)+\" L\\n\"\n",
        "\n",
        "plt.text(0.02, 0.78, text, fontsize=17, horizontalalignment='left', verticalalignment='top', transform=ax.transAxes,bbox=dict(facecolor='white', alpha=0.4))\n",
        "\n",
        "# X-axis\n",
        "plt.xticks(list(np.arange(0,len(total),int(len(total)/5))),total[:-1:int(len(total)/5)]+[total[-1]])\n",
        "\n",
        "# Tick-Parameters\n",
        "ax.xaxis.set_minor_locator(ticker.AutoMinorLocator())\n",
        "ax.yaxis.set_minor_locator(ticker.AutoMinorLocator())\n",
        "ax.tick_params(which='both', width=1,labelsize=14)\n",
        "ax.tick_params(which='major', length=6)\n",
        "ax.tick_params(which='minor', length=3, color='0.8')\n",
        "\n",
        "# Grid\n",
        "plt.grid(lw = 1, ls = '-', c = \"0.7\", which = 'major')\n",
        "plt.grid(lw = 1, ls = '-', c = \"0.9\", which = 'minor')\n",
        "\n",
        "# Plot Title\n",
        "plt.title(\"COVID-19 Next 10 day Prediction Curve-Global Confirmed Cases\",{'fontsize':22})\n",
        "\n",
        "# Axis Lable\n",
        "plt.xlabel(\"Date\",fontsize =18)\n",
        "plt.ylabel(\"Number of Confirmed Cases (Lakh)\",fontsize =18)\n",
        "\n",
        "# plt.yscale(\"log\")\n",
        "plt.legend(fontsize =18)\n",
        "plt.tick_params(labelsize = 13) \n",
        "plt.savefig(\"Prediction Curve-Confirmed.png\")\n",
        "plt.show()"
      ],
      "execution_count": null,
      "outputs": []
    },
    {
      "cell_type": "markdown",
      "metadata": {
        "id": "GtA3Gg0iLKk3",
        "colab_type": "text"
      },
      "source": [
        "> Building Model : Death Cases"
      ]
    },
    {
      "cell_type": "code",
      "metadata": {
        "id": "pwAt_Fkrbc54",
        "colab_type": "code",
        "colab": {}
      },
      "source": [
        "# Prediction Curve for Global Death Cases\n",
        "Visible = Input(shape=(1,))\n",
        "Dense_l1 = Dense(80,name=\"Dense_l1\")(Visible)\n",
        "LRelu_l1 = LeakyReLU(name = \"LRelu_l1\")(Dense_l1)\n",
        "Drop1 = Dropout(0.25)(LRelu_l1)\n",
        "\n",
        "Dense_l2 = Dense(80,name = \"Dense_l2\")(Drop1)\n",
        "LRelu_l2 = LeakyReLU(name = \"LRelu_l2\")(Dense_l2)\n",
        "Drop2 = Dropout(0.3)(LRelu_l2)\n",
        "\n",
        "Dense_l3 = Dense(80,name = \"Dense_l3\")(Drop2)\n",
        "LRelu_l3 = LeakyReLU(name = \"LRelu_l3\")(Dense_l3)\n",
        "Drop3 = Dropout(0.4)(LRelu_l3)\n",
        "\n",
        "Dense_l4 = Dense(1,name=\"Dense_l4\")(Drop3)\n",
        "LRelu_l4 = LeakyReLU(name = \"Output\")(Dense_l4)\n",
        "\n",
        "model2 = models.Model(inputs=Visible, outputs=LRelu_l4)\n",
        "model2.compile(optimizer=Adam(lr=0.0001), \n",
        "              loss='mean_squared_error')\n",
        "model2.summary()"
      ],
      "execution_count": null,
      "outputs": []
    },
    {
      "cell_type": "markdown",
      "metadata": {
        "id": "mE9hWZhLLXVP",
        "colab_type": "text"
      },
      "source": [
        "> Processing data for fitting : Deaths Cases"
      ]
    },
    {
      "cell_type": "code",
      "metadata": {
        "id": "rbfb-lDVcGC6",
        "colab_type": "code",
        "colab": {}
      },
      "source": [
        "data1_y = np.log10(np.asarray(df_deaths.iloc[:,5:].sum(axis =0)).astype(\"float32\"))\n",
        "data1_x = np.arange(1,len(data1_y)+1)"
      ],
      "execution_count": null,
      "outputs": []
    },
    {
      "cell_type": "markdown",
      "metadata": {
        "id": "vaoDKAYvLZPm",
        "colab_type": "text"
      },
      "source": [
        "> Fitting"
      ]
    },
    {
      "cell_type": "code",
      "metadata": {
        "id": "UDdc4AfhcIdl",
        "colab_type": "code",
        "colab": {}
      },
      "source": [
        "epochs= 1000\n",
        "history2 = model2.fit(data1_x.reshape([data1_y.shape[0],1]),data1_y.reshape([data1_y.shape[0],1]),epochs=epochs)"
      ],
      "execution_count": null,
      "outputs": []
    },
    {
      "cell_type": "markdown",
      "metadata": {
        "id": "0W2vrRvXK2mM",
        "colab_type": "text"
      },
      "source": [
        "> Model Loss | Epochs"
      ]
    },
    {
      "cell_type": "code",
      "metadata": {
        "id": "_yKCZHnQKZN_",
        "colab_type": "code",
        "colab": {}
      },
      "source": [
        "plot_loss(history2.history['loss'])"
      ],
      "execution_count": null,
      "outputs": []
    },
    {
      "cell_type": "code",
      "metadata": {
        "id": "SvX2YJFJcKvO",
        "colab_type": "code",
        "colab": {}
      },
      "source": [
        "model2.save('my_model_deaths.h5')"
      ],
      "execution_count": null,
      "outputs": []
    },
    {
      "cell_type": "code",
      "metadata": {
        "id": "QXSMusu3ca8p",
        "colab_type": "code",
        "colab": {}
      },
      "source": [
        "model2 = models.load_model(\"my_model_deaths.h5\")\n",
        "model2.summary()"
      ],
      "execution_count": null,
      "outputs": []
    },
    {
      "cell_type": "markdown",
      "metadata": {
        "id": "WIrFpm38LhzE",
        "colab_type": "text"
      },
      "source": [
        "> Prediction : Next 10 days - Death Cases"
      ]
    },
    {
      "cell_type": "code",
      "metadata": {
        "id": "vnab87yRchiO",
        "colab_type": "code",
        "colab": {}
      },
      "source": [
        "thousand = 1000\n",
        "prediction_days = 10\n",
        "\n",
        "temp_data = df_deaths.iloc[:,5:].sum(axis =0)\n",
        "data = np.power(10,model2.predict(np.arange(1,len(temp_data)+prediction_days+1)))\n",
        "f = plt.figure(figsize=(15,10))\n",
        "ax = f.add_subplot(111)\n",
        "\n",
        "\n",
        "date = np.arange(0,len(temp_data))\n",
        "# xnew = np.linspace(date.min(), date.max(), 10)\n",
        "# spl = make_interp_spline(date, t, k=1)  # type: BSpline\n",
        "# power_smooth = spl(xnew)\n",
        "\n",
        "marker_style = dict(linewidth=3, linestyle='-', marker='o',markersize=7, markerfacecolor='#ffffff')\n",
        "plt.plot(date,temp_data/thousand,\"-.\",color=\"maroon\",**marker_style, label=\"Actual Curve\")\n",
        "\n",
        "date = np.arange(0,len(data))\n",
        "plt.plot(date,data/thousand,\"-.\",color=\"orangered\",label=\"Predicted Curve\")\n",
        "\n",
        "nextdays = [(datetime.strptime(d[-1],'%d %b')+timedelta(days=i)).strftime(\"%d %b\") for i in range(1,prediction_days+1)]\n",
        "total =d+nextdays\n",
        "\n",
        "text = \"Prediction for next \"+str(prediction_days) +\" days:\\n\"\n",
        "for i in range(prediction_days):\n",
        "    text += nextdays[i]+\" : \"+str(np.round(data[-1*(prediction_days-i)],-1)[0]/thousand)+\"K\\n\"\n",
        "\n",
        "plt.text(0.02, 0.78, text, fontsize=17, horizontalalignment='left', verticalalignment='top', transform=ax.transAxes,bbox=dict(facecolor='white', alpha=0.4))\n",
        "\n",
        "# X-axis\n",
        "plt.xticks(list(np.arange(0,len(total),int(len(total)/5))),total[:-1:int(len(total)/5)]+[total[-1]])\n",
        "\n",
        "# Tick-Parameters\n",
        "ax.xaxis.set_minor_locator(ticker.AutoMinorLocator())\n",
        "ax.yaxis.set_minor_locator(ticker.AutoMinorLocator())\n",
        "ax.tick_params(which='both', width=1,labelsize=12)\n",
        "ax.tick_params(which='major', length=6)\n",
        "ax.tick_params(which='minor', length=3, color='0.8')\n",
        "\n",
        "# Grid\n",
        "plt.grid(lw = 1, ls = '-', c = \"0.7\", which = 'major')\n",
        "plt.grid(lw = 1, ls = '-', c = \"0.9\", which = 'minor')\n",
        "\n",
        "# Plot Title\n",
        "plt.title(\"COVID-19 Next 10 day Prediction Curve-Global Deaths Cases\",{'fontsize':22})\n",
        "\n",
        "# Axis Lable\n",
        "plt.xlabel(\"Date\",fontsize =18)\n",
        "plt.ylabel(\"Number of Deaths Cases (Thousand)\",fontsize =18)\n",
        "\n",
        "# plt.yscale(\"log\")\n",
        "plt.legend(fontsize =18)\n",
        "plt.tick_params(labelsize = 13) \n",
        "plt.savefig(\"Prediction Curve2.png\")\n",
        "plt.show()"
      ],
      "execution_count": null,
      "outputs": []
    },
    {
      "cell_type": "markdown",
      "metadata": {
        "id": "C58EcBQA5Aqf",
        "colab_type": "text"
      },
      "source": [
        "# CoVID-19 : USA"
      ]
    },
    {
      "cell_type": "code",
      "metadata": {
        "id": "k04xHGjk53-A",
        "colab_type": "code",
        "colab": {}
      },
      "source": [
        "date_usa = datetime.strptime(df_confirmed.columns[-1],'%m/%d/%y').strftime(\"%m-%d-%Y\")\n",
        "df_temp = pd.read_csv(\"https://raw.githubusercontent.com/CSSEGISandData/COVID-19/master/csse_covid_19_data/csse_covid_19_daily_reports/\"+date_usa+\".csv\")\n",
        "df_usa = df_temp.loc[df_temp[\"Country_Region\"]== \"US\"]\n",
        "df_usa = df_usa.rename(columns={\"Admin2\":\"County\"})"
      ],
      "execution_count": null,
      "outputs": []
    },
    {
      "cell_type": "markdown",
      "metadata": {
        "id": "7dVW8uWn9SZz",
        "colab_type": "text"
      },
      "source": [
        "> Confirmed Cases & Deaths : USA"
      ]
    },
    {
      "cell_type": "code",
      "metadata": {
        "id": "pi57QhDU5_Wn",
        "colab_type": "code",
        "colab": {}
      },
      "source": [
        "total = df_usa.sum()\n",
        "total.name = \"Total\"\n",
        "pd.DataFrame(total).transpose().loc[:,[\"Confirmed\",\"Deaths\"]].style.background_gradient(cmap='Blues',axis=1)"
      ],
      "execution_count": null,
      "outputs": []
    },
    {
      "cell_type": "markdown",
      "metadata": {
        "id": "t7sC0S179Y0X",
        "colab_type": "text"
      },
      "source": [
        "> Confirmed Cases & Deaths : USA Statewise"
      ]
    },
    {
      "cell_type": "code",
      "metadata": {
        "id": "sxtFjKVr6BxS",
        "colab_type": "code",
        "colab": {}
      },
      "source": [
        "df_usa.loc[:,[\"Confirmed\",\"Deaths\",\"Province_State\"]].groupby([\"Province_State\"]).sum().sort_values(\"Confirmed\",ascending=False).style.background_gradient(cmap='Blues',subset=[\"Confirmed\"]).background_gradient(cmap='Reds',subset=[\"Deaths\"])"
      ],
      "execution_count": null,
      "outputs": []
    },
    {
      "cell_type": "markdown",
      "metadata": {
        "id": "eTc3XKqX9kXl",
        "colab_type": "text"
      },
      "source": [
        "> Top 10 States with most Confirmed cases and deaths"
      ]
    },
    {
      "cell_type": "code",
      "metadata": {
        "id": "T5JuC_2Q6HHQ",
        "colab_type": "code",
        "colab": {}
      },
      "source": [
        "df_usa.loc[:,[\"Province_State\",\"Confirmed\",\"Deaths\",\"County\"]].sort_values(\"Confirmed\",ascending=False).set_index(\"County\")[:10].style.background_gradient(cmap='Blues',subset=[\"Confirmed\"])\\\n",
        "                        .background_gradient(cmap='Reds',subset=[\"Deaths\"])"
      ],
      "execution_count": null,
      "outputs": []
    },
    {
      "cell_type": "markdown",
      "metadata": {
        "id": "61xxWcW19poo",
        "colab_type": "text"
      },
      "source": [
        "USA - Top 10 states Confirmed cases"
      ]
    },
    {
      "cell_type": "code",
      "metadata": {
        "id": "sz8Qqy9l6M84",
        "colab_type": "code",
        "colab": {}
      },
      "source": [
        "f.add_subplot(111)\n",
        "\n",
        "plt.axes(axisbelow=True)\n",
        "plt.barh(df_usa.groupby([\"Province_State\"]).sum().sort_values('Confirmed')[\"Confirmed\"].index[-10:],df_usa.groupby([\"Province_State\"]).sum().sort_values('Confirmed')[\"Confirmed\"].values[-10:],color=\"darkcyan\")\n",
        "plt.tick_params(size=5,labelsize = 13)\n",
        "plt.xlabel(\"Confirmed Cases\",fontsize=18)\n",
        "plt.title(\"Top 10 States: USA (Confirmed Cases)\",fontsize=20)\n",
        "plt.grid(alpha=0.3)\n",
        "plt.savefig('Top 10 States_USA (Confirmed Cases).png')"
      ],
      "execution_count": null,
      "outputs": []
    },
    {
      "cell_type": "markdown",
      "metadata": {
        "id": "CVobRr8l9uTv",
        "colab_type": "text"
      },
      "source": [
        "USA - Top 10 states Fatal cases"
      ]
    },
    {
      "cell_type": "code",
      "metadata": {
        "id": "D-vvsH1_6Otu",
        "colab_type": "code",
        "colab": {}
      },
      "source": [
        "f = plt.figure(figsize=(10,5))\n",
        "f.add_subplot(111)\n",
        "\n",
        "plt.axes(axisbelow=True)\n",
        "plt.barh(df_usa.groupby([\"Province_State\"]).sum().sort_values('Deaths')[\"Deaths\"].index[-10:],df_usa.groupby([\"Province_State\"]).sum().sort_values('Deaths')[\"Deaths\"].values[-10:],color=\"crimson\")\n",
        "plt.tick_params(size=5,labelsize = 13)\n",
        "plt.xlabel(\"Deaths\",fontsize=18)\n",
        "plt.title(\"Top 10 States: USA (Deaths Cases)\",fontsize=20)\n",
        "plt.grid(alpha=0.3)\n",
        "plt.savefig('Top 10 States_USA (Deaths Cases).png')"
      ],
      "execution_count": null,
      "outputs": []
    },
    {
      "cell_type": "markdown",
      "metadata": {
        "id": "2iSktZmH9ybm",
        "colab_type": "text"
      },
      "source": [
        "Covid-19 : USA Map"
      ]
    },
    {
      "cell_type": "code",
      "metadata": {
        "id": "A3v6DUs46bDl",
        "colab_type": "code",
        "colab": {}
      },
      "source": [
        "df_usa = df_usa.replace(np.nan, 0, regex=True)\n",
        "usa = folium.Map(location=[37, -102], zoom_start=4,max_zoom=9,min_zoom=4)\n",
        "for i in np.int32(np.asarray(df_usa[df_usa['Confirmed'] > 0].index)):\n",
        "    folium.Circle(\n",
        "        location=[df_usa.loc[i]['Lat'], df_usa.loc[i]['Long_']],\n",
        "        tooltip = \"<h5 style='text-align:center;font-weight: bold'>\"+df_usa.loc[i]['Province_State']+\"</h5>\"+\n",
        "                    \"<div style='text-align:center;'>\"+str(np.nan_to_num(df_usa.loc[i]['County']))+\"</div>\"+\n",
        "                    \"<hr style='margin:10px;'>\"+\n",
        "                    \"<ul style='color: #444;list-style-type:circle;align-item:left;padding-left:20px;padding-right:20px'>\"+\n",
        "        \"<li>Confirmed: \"+str(df_usa.loc[i]['Confirmed'])+\"</li>\"+\n",
        "        \"<li>Active:   \"+str(df_usa.loc[i]['Active'])+\"</li>\"+\n",
        "        \"<li>Recovered:   \"+str(df_usa.loc[i]['Recovered'])+\"</li>\"+       \n",
        "        \"<li>Deaths:   \"+str(df_usa.loc[i]['Deaths'])+\"</li>\"+\n",
        "        \"<li>Mortality Rate:   \"+str(np.round(df_usa.loc[i]['Deaths']/(df_usa.loc[i]['Confirmed']+1)*100,2))+\"</li>\"+\n",
        "        \"</ul>\"\n",
        "        ,\n",
        "        radius=int((np.log2(df_usa.loc[i]['Confirmed']+1))*6000),\n",
        "        color='#ff6600',\n",
        "        fill_color='#ff8533',\n",
        "        fill=True).add_to(usa)"
      ],
      "execution_count": null,
      "outputs": []
    },
    {
      "cell_type": "code",
      "metadata": {
        "id": "F9Q3ffod6cD7",
        "colab_type": "code",
        "colab": {}
      },
      "source": [
        "usa"
      ],
      "execution_count": null,
      "outputs": []
    },
    {
      "cell_type": "markdown",
      "metadata": {
        "id": "OSAMXROm9BIG",
        "colab_type": "text"
      },
      "source": [
        "> Next week's prediction for confirmed cases : USA"
      ]
    },
    {
      "cell_type": "code",
      "metadata": {
        "id": "JYgtJvpE6sTS",
        "colab_type": "code",
        "colab": {}
      },
      "source": [
        "# Deep learning model\n",
        "\n",
        "Visible = Input(shape=(1,))\n",
        "Dense_l1 = Dense(80,name=\"Dense_l1\")(Visible)\n",
        "LRelu_l1 = LeakyReLU(name = \"LRelu_l1\")(Dense_l1)\n",
        "Dense_l2 = Dense(80,name = \"Dense_l2\")(LRelu_l1)\n",
        "LRelu_l2 = LeakyReLU(name = \"LRelu_l2\")(Dense_l2)\n",
        "Dense_l3 = Dense(1,name=\"Dense_l3\")(LRelu_l2)\n",
        "LRelu_l3 = LeakyReLU(name = \"Output\")(Dense_l3)\n",
        "model_usa_c = models.Model(inputs=Visible, outputs=LRelu_l3)\n",
        "model_usa_c.compile(optimizer=Adam(lr=0.0001), \n",
        "              loss='mean_squared_error',\n",
        "              metrics=['accuracy'])\n",
        "model_usa_c.summary()"
      ],
      "execution_count": null,
      "outputs": []
    },
    {
      "cell_type": "code",
      "metadata": {
        "id": "jlb4BFVX6zqw",
        "colab_type": "code",
        "colab": {}
      },
      "source": [
        "model_usa_c.save('my_model_usa.h5')"
      ],
      "execution_count": null,
      "outputs": []
    },
    {
      "cell_type": "code",
      "metadata": {
        "id": "iDshhHF365lV",
        "colab_type": "code",
        "colab": {}
      },
      "source": [
        "# preparing data for fitting \n",
        "\n",
        "df_temp = df_confirmed.groupby([\"country\"]).sum()\n",
        "df_temp = np.asarray(df_temp[df_temp.index == \"USA\"].iloc[:,2:])[0]\n",
        "data_y = np.log10(df_temp).astype(\"float32\")\n",
        "data_x = np.arange(1,len(data_y)+1)"
      ],
      "execution_count": null,
      "outputs": []
    },
    {
      "cell_type": "code",
      "metadata": {
        "id": "PKZoQ1t369vb",
        "colab_type": "code",
        "colab": {}
      },
      "source": [
        "epochs = 1000\n",
        "history_usa=model_usa_c.fit(data_x.reshape([data_x.shape[0],1]),data_y.reshape([data_x.shape[0],1]),epochs=epochs,batch_size=64)"
      ],
      "execution_count": null,
      "outputs": []
    },
    {
      "cell_type": "markdown",
      "metadata": {
        "id": "h25aGfU-MACX",
        "colab_type": "text"
      },
      "source": [
        "> Model Loss | Epochs"
      ]
    },
    {
      "cell_type": "code",
      "metadata": {
        "id": "F3z0OcUQLtm1",
        "colab_type": "code",
        "colab": {}
      },
      "source": [
        "plot_loss(history_usa.history['loss'])"
      ],
      "execution_count": null,
      "outputs": []
    },
    {
      "cell_type": "code",
      "metadata": {
        "id": "FTL-SWHz7H3W",
        "colab_type": "code",
        "colab": {}
      },
      "source": [
        "lakh = 100000\n",
        "prediction_days = 7\n",
        "df_temp = df_confirmed.groupby([\"country\"]).sum()\n",
        "temp_data = np.asarray(df_temp[df_temp.index == \"USA\"].iloc[:,2:])[0]\n",
        "data = np.power(10,model_usa_c.predict(np.arange(1,len(temp_data)+prediction_days+1)))\n",
        "# temp_data = df_confirmed.iloc[:,5:].sum(axis =0)\n",
        "\n",
        "f = plt.figure(figsize=(12,8))\n",
        "ax = f.add_subplot(111)\n",
        "\n",
        "date = np.arange(0,len(temp_data))\n",
        "\n",
        "marker_style = dict(linewidth=3, linestyle='-', marker='o',markersize=7, markerfacecolor='#ffffff')\n",
        "plt.plot(date,temp_data,\"-.\",color=\"darkcyan\",**marker_style, label=\"Actual Curve\")\n",
        "\n",
        "date = np.arange(0,len(data))\n",
        "plt.plot(date,data,\"-.\",color=\"orangered\",label=\"Predicted Curve\")\n",
        "\n",
        "nextdays = [(datetime.strptime(d[-1],'%d %b')+timedelta(days=i)).strftime(\"%d %b\") for i in range(1,prediction_days+1)]\n",
        "total =d+nextdays\n",
        "\n",
        "text = \"Prediction for next \"+str(prediction_days) +\" days:\\n\"\n",
        "for i in range(prediction_days):\n",
        "    text += nextdays[i]+\" : \"+str(np.round(data[-1*(prediction_days-i)],-3)[0]/lakh)+\" L\\n\"\n",
        "\n",
        "plt.text(0.02, 0.78, text, fontsize=17, horizontalalignment='left', verticalalignment='top', transform=ax.transAxes,bbox=dict(facecolor='white', alpha=0.4))\n",
        "\n",
        "# X-axis\n",
        "plt.xticks(list(np.arange(0,len(total),int(len(total)/5))),total[:-1:int(len(total)/5)]+[total[-1]])\n",
        "\n",
        "# Tick-Parameters\n",
        "ax.xaxis.set_minor_locator(ticker.AutoMinorLocator())\n",
        "ax.yaxis.set_minor_locator(ticker.AutoMinorLocator())\n",
        "ax.tick_params(which='both', width=1,labelsize=14)\n",
        "ax.tick_params(which='major', length=6)\n",
        "ax.tick_params(which='minor', length=3, color='0.8')\n",
        "\n",
        "# Grid\n",
        "plt.grid(lw = 1, ls = '-', c = \"0.7\", which = 'major')\n",
        "plt.grid(lw = 1, ls = '-', c = \"0.9\", which = 'minor')\n",
        "\n",
        "# Plot Title\n",
        "plt.title(\"COVID-19 Next 7 day Prediction Curve-USA Confirmed Cases\",{'fontsize':22})\n",
        "\n",
        "# Axis Lable\n",
        "plt.xlabel(\"Date\",fontsize =18)\n",
        "plt.ylabel(\"Number of Confirmed Cases\",fontsize =18)\n",
        "\n",
        "plt.yscale(\"log\")\n",
        "plt.legend(fontsize =18)\n",
        "plt.tick_params(labelsize = 13) \n",
        "plt.savefig(\"Prediction Curve-Confirmed (USA).png\")\n",
        "plt.show()"
      ],
      "execution_count": null,
      "outputs": []
    },
    {
      "cell_type": "markdown",
      "metadata": {
        "id": "hraYcfWk94ka",
        "colab_type": "text"
      },
      "source": [
        "# Conclusion\n",
        "\n",
        "Everyone wants to turn the page on SARS-CoV-2 or COVID-19 as soon as possible. But lessons are inevitable. And it's up to each of us to decide if those lessons are right.  \n",
        "\n",
        "Throughout mankind's long history, there have been many such cases but no one expected something like this to happen in the 21st century.\n",
        "\n",
        "We have to stay strong and stay indoors as much as possible for our own sake and continue to act from a moral perspective. After all, our best bet is a happy future for all who live on Earth, our common home. "
      ]
    },
    {
      "cell_type": "markdown",
      "metadata": {
        "id": "IwnHB2GW_x7X",
        "colab_type": "text"
      },
      "source": [
        "\n",
        "Submitted By: Sanuj Kumar\n",
        "<br>\n",
        "sanujsriv@gmail.com\n",
        "<br><br>\n",
        "Have a good one!"
      ]
    }
  ]
}